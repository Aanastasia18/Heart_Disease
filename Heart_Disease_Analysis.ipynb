{
 "cells": [
  {
   "cell_type": "code",
   "execution_count": 1,
   "id": "d1bf99ea",
   "metadata": {},
   "outputs": [],
   "source": [
    "# Import all the libraries needed for the data analysis\n",
    "import numpy as np\n",
    "import matplotlib.pyplot as plt\n",
    "import pandas as pd\n",
    "import seaborn as sns"
   ]
  },
  {
   "cell_type": "markdown",
   "id": "d909917d",
   "metadata": {},
   "source": [
    "# Using \"AFTERS\" algo for analysis part:\n",
    "### A - Acquire\n",
    "### F - Filter\n",
    "### T - Transform\n",
    "### ER - ExploRe\n",
    "### S - Split"
   ]
  },
  {
   "cell_type": "markdown",
   "id": "a4c61c9b",
   "metadata": {},
   "source": [
    "# 1.Data Acquisition\n",
    "#### 1.1.Extract data\n",
    "#### 1.2.Scrape data\n",
    "#### 1.3.Query data\n",
    "#### 1.4.Collect data\n",
    "#### 1.5.Combine data"
   ]
  },
  {
   "cell_type": "markdown",
   "id": "94ace3b6",
   "metadata": {},
   "source": [
    "### 1.1.Extract data"
   ]
  },
  {
   "cell_type": "code",
   "execution_count": 2,
   "id": "ef725150",
   "metadata": {},
   "outputs": [],
   "source": [
    "# read the dataset\n",
    "data = pd.read_csv('heart.csv')"
   ]
  },
  {
   "cell_type": "markdown",
   "id": "2edc95f6",
   "metadata": {},
   "source": [
    "### 1.2.Scrape data"
   ]
  },
  {
   "cell_type": "code",
   "execution_count": 3,
   "id": "c216a26f",
   "metadata": {},
   "outputs": [],
   "source": [
    "# The info was taken from the kaggle dataset after the Google research\n",
    "\n",
    "# Columns Analysis(with value limits):\n",
    "# 1) age - each person's age (0 - 150)\n",
    "\n",
    "# 2) sex - each person's sex:\n",
    "#     0 - Female\n",
    "#     1 - Male\n",
    "\n",
    "# 3) cp - different types of the chest pain:\n",
    "#     0 - Typical angina\n",
    "#     1 - Atypical angina\n",
    "#     2 - Non-angina pain\n",
    "#     3 - Asymptomatic\n",
    "\n",
    "# 4) trestbps - resting blood pressure (according to the data it is Systolic Blood Pressure)\n",
    "#     ≤50 - Dangerously low\n",
    "#     ≤60 - Very low\n",
    "#     <90 - Low\n",
    "#     <120 - Normal\n",
    "#     120-129 - Elevated\n",
    "#     130-139 - Hypertension stage I\n",
    "#     140-159 - Hypertension stage II\n",
    "#     >180 - Hypertensive crisis\n",
    "\n",
    "# 5) chol - serum cholesterol (Cholesterol is a naturally produced fatty substance in the liver with a wax-like texture. Once     created, it enters the bloodstream to reach different body parts. The term ‘serum cholesterol’ refers to cholesterol levels found in the blood. )\n",
    "#     < 200 mg/dl - Norm\n",
    "#     200-239 mg/dl - Moderate risk\n",
    "#     > 240 mg/dl - High risk\n",
    "\n",
    "# 6) fbs - Fasting blood glucose (FBG) (depicts fasting blood glucose (FBG) of individual in mg/dl (unit)).\n",
    "#     0 -  FBG < 120mg/dl - Norm\n",
    "#     1 - FBG > 120mg/dl - High(typical of diabetic patients and diabetic patients are twice more likely to have a heart disease)\n",
    "     \n",
    "\n",
    "# 7) restecg - Resting ECG (electrocardiogram)\n",
    "#     0 - asymptomatic\n",
    "#     1 - normal\n",
    "#     2 - ST wave abnormality\n",
    "\n",
    "# 8) thalach - Maximum heart rate achieved (bpm)\n",
    "\n",
    "# 9) exang - Exercise induced angina: this is when exercises causes angina (is a chest pain or discomfort caused when your heart muscle doesn’t get enough oxygen-rich blood).\n",
    "#     0 - No\n",
    "#     1 - Yes\n",
    "\n",
    "# 10) oldpeak - ST depression induced by exercise relative to rest\n",
    "\n",
    "# 11) slope - The slope of the peak exercise ST segment\n",
    "#     0 - downsloping\n",
    "#     1 - flat\n",
    "#     2 - upsloping\n",
    "\n",
    "# 12) ca - Number of major vessels (0-3) colored by fluoroscopy\n",
    "#     if the vassel is not colored - there is a clot, otherwise there is no clot\n",
    "\n",
    "# 13) thal - A thallium stress test is a nuclear imaging test that shows how well blood flows into the heart while you’re exercising or at rest.\n",
    "#     1 - Fixed defect\n",
    "#     2 - Normal\n",
    "#     3 - Reversable defect\n",
    "\n",
    "# 14) Target\n",
    "#     0 - No disease\n",
    "#     1 - There is disease\n",
    "\n"
   ]
  },
  {
   "cell_type": "code",
   "execution_count": 4,
   "id": "948a03a4",
   "metadata": {},
   "outputs": [
    {
     "data": {
      "text/html": [
       "<div>\n",
       "<style scoped>\n",
       "    .dataframe tbody tr th:only-of-type {\n",
       "        vertical-align: middle;\n",
       "    }\n",
       "\n",
       "    .dataframe tbody tr th {\n",
       "        vertical-align: top;\n",
       "    }\n",
       "\n",
       "    .dataframe thead th {\n",
       "        text-align: right;\n",
       "    }\n",
       "</style>\n",
       "<table border=\"1\" class=\"dataframe\">\n",
       "  <thead>\n",
       "    <tr style=\"text-align: right;\">\n",
       "      <th></th>\n",
       "      <th>age</th>\n",
       "      <th>sex</th>\n",
       "      <th>cp</th>\n",
       "      <th>trestbps</th>\n",
       "      <th>chol</th>\n",
       "      <th>fbs</th>\n",
       "      <th>restecg</th>\n",
       "      <th>thalach</th>\n",
       "      <th>exang</th>\n",
       "      <th>oldpeak</th>\n",
       "      <th>slope</th>\n",
       "      <th>ca</th>\n",
       "      <th>thal</th>\n",
       "      <th>target</th>\n",
       "    </tr>\n",
       "  </thead>\n",
       "  <tbody>\n",
       "    <tr>\n",
       "      <th>0</th>\n",
       "      <td>63</td>\n",
       "      <td>1</td>\n",
       "      <td>3</td>\n",
       "      <td>145</td>\n",
       "      <td>233</td>\n",
       "      <td>1</td>\n",
       "      <td>0</td>\n",
       "      <td>150</td>\n",
       "      <td>0</td>\n",
       "      <td>2.3</td>\n",
       "      <td>0</td>\n",
       "      <td>0</td>\n",
       "      <td>1</td>\n",
       "      <td>1</td>\n",
       "    </tr>\n",
       "    <tr>\n",
       "      <th>1</th>\n",
       "      <td>37</td>\n",
       "      <td>1</td>\n",
       "      <td>2</td>\n",
       "      <td>130</td>\n",
       "      <td>250</td>\n",
       "      <td>0</td>\n",
       "      <td>1</td>\n",
       "      <td>187</td>\n",
       "      <td>0</td>\n",
       "      <td>3.5</td>\n",
       "      <td>0</td>\n",
       "      <td>0</td>\n",
       "      <td>2</td>\n",
       "      <td>1</td>\n",
       "    </tr>\n",
       "    <tr>\n",
       "      <th>2</th>\n",
       "      <td>41</td>\n",
       "      <td>0</td>\n",
       "      <td>1</td>\n",
       "      <td>130</td>\n",
       "      <td>204</td>\n",
       "      <td>0</td>\n",
       "      <td>0</td>\n",
       "      <td>172</td>\n",
       "      <td>0</td>\n",
       "      <td>1.4</td>\n",
       "      <td>2</td>\n",
       "      <td>0</td>\n",
       "      <td>2</td>\n",
       "      <td>1</td>\n",
       "    </tr>\n",
       "    <tr>\n",
       "      <th>3</th>\n",
       "      <td>56</td>\n",
       "      <td>1</td>\n",
       "      <td>1</td>\n",
       "      <td>120</td>\n",
       "      <td>236</td>\n",
       "      <td>0</td>\n",
       "      <td>1</td>\n",
       "      <td>178</td>\n",
       "      <td>0</td>\n",
       "      <td>0.8</td>\n",
       "      <td>2</td>\n",
       "      <td>0</td>\n",
       "      <td>2</td>\n",
       "      <td>1</td>\n",
       "    </tr>\n",
       "    <tr>\n",
       "      <th>4</th>\n",
       "      <td>57</td>\n",
       "      <td>0</td>\n",
       "      <td>0</td>\n",
       "      <td>120</td>\n",
       "      <td>354</td>\n",
       "      <td>0</td>\n",
       "      <td>1</td>\n",
       "      <td>163</td>\n",
       "      <td>1</td>\n",
       "      <td>0.6</td>\n",
       "      <td>2</td>\n",
       "      <td>0</td>\n",
       "      <td>2</td>\n",
       "      <td>1</td>\n",
       "    </tr>\n",
       "  </tbody>\n",
       "</table>\n",
       "</div>"
      ],
      "text/plain": [
       "   age  sex  cp  trestbps  chol  fbs  restecg  thalach  exang  oldpeak  slope  \\\n",
       "0   63    1   3       145   233    1        0      150      0      2.3      0   \n",
       "1   37    1   2       130   250    0        1      187      0      3.5      0   \n",
       "2   41    0   1       130   204    0        0      172      0      1.4      2   \n",
       "3   56    1   1       120   236    0        1      178      0      0.8      2   \n",
       "4   57    0   0       120   354    0        1      163      1      0.6      2   \n",
       "\n",
       "   ca  thal  target  \n",
       "0   0     1       1  \n",
       "1   0     2       1  \n",
       "2   0     2       1  \n",
       "3   0     2       1  \n",
       "4   0     2       1  "
      ]
     },
     "execution_count": 4,
     "metadata": {},
     "output_type": "execute_result"
    }
   ],
   "source": [
    "# What does the dataset looks like?\n",
    "data.head()"
   ]
  },
  {
   "cell_type": "code",
   "execution_count": 5,
   "id": "f6714f00",
   "metadata": {},
   "outputs": [
    {
     "data": {
      "text/plain": [
       "(303, 14)"
      ]
     },
     "execution_count": 5,
     "metadata": {},
     "output_type": "execute_result"
    }
   ],
   "source": [
    "# What is the shape of the dataset?\n",
    "data.shape"
   ]
  },
  {
   "cell_type": "code",
   "execution_count": 6,
   "id": "a4859e11",
   "metadata": {},
   "outputs": [],
   "source": [
    "### Comment: number of rows 303, number of columns 14"
   ]
  },
  {
   "cell_type": "code",
   "execution_count": 7,
   "id": "8f03436e",
   "metadata": {},
   "outputs": [
    {
     "name": "stdout",
     "output_type": "stream",
     "text": [
      "<class 'pandas.core.frame.DataFrame'>\n",
      "RangeIndex: 303 entries, 0 to 302\n",
      "Data columns (total 14 columns):\n",
      " #   Column    Non-Null Count  Dtype  \n",
      "---  ------    --------------  -----  \n",
      " 0   age       303 non-null    int64  \n",
      " 1   sex       303 non-null    int64  \n",
      " 2   cp        303 non-null    int64  \n",
      " 3   trestbps  303 non-null    int64  \n",
      " 4   chol      303 non-null    int64  \n",
      " 5   fbs       303 non-null    int64  \n",
      " 6   restecg   303 non-null    int64  \n",
      " 7   thalach   303 non-null    int64  \n",
      " 8   exang     303 non-null    int64  \n",
      " 9   oldpeak   303 non-null    float64\n",
      " 10  slope     303 non-null    int64  \n",
      " 11  ca        303 non-null    int64  \n",
      " 12  thal      303 non-null    int64  \n",
      " 13  target    303 non-null    int64  \n",
      "dtypes: float64(1), int64(13)\n",
      "memory usage: 33.3 KB\n"
     ]
    }
   ],
   "source": [
    "# What are the datatypes of columns? How much null data has the dataset?\n",
    "data.info()"
   ]
  },
  {
   "cell_type": "code",
   "execution_count": 8,
   "id": "66341db2",
   "metadata": {},
   "outputs": [],
   "source": [
    "### Comment: the dataset has not null data"
   ]
  },
  {
   "cell_type": "code",
   "execution_count": 9,
   "id": "ce709115",
   "metadata": {},
   "outputs": [
    {
     "data": {
      "text/html": [
       "<div>\n",
       "<style scoped>\n",
       "    .dataframe tbody tr th:only-of-type {\n",
       "        vertical-align: middle;\n",
       "    }\n",
       "\n",
       "    .dataframe tbody tr th {\n",
       "        vertical-align: top;\n",
       "    }\n",
       "\n",
       "    .dataframe thead th {\n",
       "        text-align: right;\n",
       "    }\n",
       "</style>\n",
       "<table border=\"1\" class=\"dataframe\">\n",
       "  <thead>\n",
       "    <tr style=\"text-align: right;\">\n",
       "      <th></th>\n",
       "      <th>age</th>\n",
       "      <th>sex</th>\n",
       "      <th>cp</th>\n",
       "      <th>trestbps</th>\n",
       "      <th>chol</th>\n",
       "      <th>fbs</th>\n",
       "      <th>restecg</th>\n",
       "      <th>thalach</th>\n",
       "      <th>exang</th>\n",
       "      <th>oldpeak</th>\n",
       "      <th>slope</th>\n",
       "      <th>ca</th>\n",
       "      <th>thal</th>\n",
       "      <th>target</th>\n",
       "    </tr>\n",
       "  </thead>\n",
       "  <tbody>\n",
       "    <tr>\n",
       "      <th>count</th>\n",
       "      <td>303.000000</td>\n",
       "      <td>303.000000</td>\n",
       "      <td>303.000000</td>\n",
       "      <td>303.000000</td>\n",
       "      <td>303.000000</td>\n",
       "      <td>303.000000</td>\n",
       "      <td>303.000000</td>\n",
       "      <td>303.000000</td>\n",
       "      <td>303.000000</td>\n",
       "      <td>303.000000</td>\n",
       "      <td>303.000000</td>\n",
       "      <td>303.000000</td>\n",
       "      <td>303.000000</td>\n",
       "      <td>303.000000</td>\n",
       "    </tr>\n",
       "    <tr>\n",
       "      <th>mean</th>\n",
       "      <td>54.366337</td>\n",
       "      <td>0.683168</td>\n",
       "      <td>0.966997</td>\n",
       "      <td>131.623762</td>\n",
       "      <td>246.264026</td>\n",
       "      <td>0.148515</td>\n",
       "      <td>0.528053</td>\n",
       "      <td>149.646865</td>\n",
       "      <td>0.326733</td>\n",
       "      <td>1.039604</td>\n",
       "      <td>1.399340</td>\n",
       "      <td>0.729373</td>\n",
       "      <td>2.313531</td>\n",
       "      <td>0.544554</td>\n",
       "    </tr>\n",
       "    <tr>\n",
       "      <th>std</th>\n",
       "      <td>9.082101</td>\n",
       "      <td>0.466011</td>\n",
       "      <td>1.032052</td>\n",
       "      <td>17.538143</td>\n",
       "      <td>51.830751</td>\n",
       "      <td>0.356198</td>\n",
       "      <td>0.525860</td>\n",
       "      <td>22.905161</td>\n",
       "      <td>0.469794</td>\n",
       "      <td>1.161075</td>\n",
       "      <td>0.616226</td>\n",
       "      <td>1.022606</td>\n",
       "      <td>0.612277</td>\n",
       "      <td>0.498835</td>\n",
       "    </tr>\n",
       "    <tr>\n",
       "      <th>min</th>\n",
       "      <td>29.000000</td>\n",
       "      <td>0.000000</td>\n",
       "      <td>0.000000</td>\n",
       "      <td>94.000000</td>\n",
       "      <td>126.000000</td>\n",
       "      <td>0.000000</td>\n",
       "      <td>0.000000</td>\n",
       "      <td>71.000000</td>\n",
       "      <td>0.000000</td>\n",
       "      <td>0.000000</td>\n",
       "      <td>0.000000</td>\n",
       "      <td>0.000000</td>\n",
       "      <td>0.000000</td>\n",
       "      <td>0.000000</td>\n",
       "    </tr>\n",
       "    <tr>\n",
       "      <th>25%</th>\n",
       "      <td>47.500000</td>\n",
       "      <td>0.000000</td>\n",
       "      <td>0.000000</td>\n",
       "      <td>120.000000</td>\n",
       "      <td>211.000000</td>\n",
       "      <td>0.000000</td>\n",
       "      <td>0.000000</td>\n",
       "      <td>133.500000</td>\n",
       "      <td>0.000000</td>\n",
       "      <td>0.000000</td>\n",
       "      <td>1.000000</td>\n",
       "      <td>0.000000</td>\n",
       "      <td>2.000000</td>\n",
       "      <td>0.000000</td>\n",
       "    </tr>\n",
       "    <tr>\n",
       "      <th>50%</th>\n",
       "      <td>55.000000</td>\n",
       "      <td>1.000000</td>\n",
       "      <td>1.000000</td>\n",
       "      <td>130.000000</td>\n",
       "      <td>240.000000</td>\n",
       "      <td>0.000000</td>\n",
       "      <td>1.000000</td>\n",
       "      <td>153.000000</td>\n",
       "      <td>0.000000</td>\n",
       "      <td>0.800000</td>\n",
       "      <td>1.000000</td>\n",
       "      <td>0.000000</td>\n",
       "      <td>2.000000</td>\n",
       "      <td>1.000000</td>\n",
       "    </tr>\n",
       "    <tr>\n",
       "      <th>75%</th>\n",
       "      <td>61.000000</td>\n",
       "      <td>1.000000</td>\n",
       "      <td>2.000000</td>\n",
       "      <td>140.000000</td>\n",
       "      <td>274.500000</td>\n",
       "      <td>0.000000</td>\n",
       "      <td>1.000000</td>\n",
       "      <td>166.000000</td>\n",
       "      <td>1.000000</td>\n",
       "      <td>1.600000</td>\n",
       "      <td>2.000000</td>\n",
       "      <td>1.000000</td>\n",
       "      <td>3.000000</td>\n",
       "      <td>1.000000</td>\n",
       "    </tr>\n",
       "    <tr>\n",
       "      <th>max</th>\n",
       "      <td>77.000000</td>\n",
       "      <td>1.000000</td>\n",
       "      <td>3.000000</td>\n",
       "      <td>200.000000</td>\n",
       "      <td>564.000000</td>\n",
       "      <td>1.000000</td>\n",
       "      <td>2.000000</td>\n",
       "      <td>202.000000</td>\n",
       "      <td>1.000000</td>\n",
       "      <td>6.200000</td>\n",
       "      <td>2.000000</td>\n",
       "      <td>4.000000</td>\n",
       "      <td>3.000000</td>\n",
       "      <td>1.000000</td>\n",
       "    </tr>\n",
       "  </tbody>\n",
       "</table>\n",
       "</div>"
      ],
      "text/plain": [
       "              age         sex          cp    trestbps        chol         fbs  \\\n",
       "count  303.000000  303.000000  303.000000  303.000000  303.000000  303.000000   \n",
       "mean    54.366337    0.683168    0.966997  131.623762  246.264026    0.148515   \n",
       "std      9.082101    0.466011    1.032052   17.538143   51.830751    0.356198   \n",
       "min     29.000000    0.000000    0.000000   94.000000  126.000000    0.000000   \n",
       "25%     47.500000    0.000000    0.000000  120.000000  211.000000    0.000000   \n",
       "50%     55.000000    1.000000    1.000000  130.000000  240.000000    0.000000   \n",
       "75%     61.000000    1.000000    2.000000  140.000000  274.500000    0.000000   \n",
       "max     77.000000    1.000000    3.000000  200.000000  564.000000    1.000000   \n",
       "\n",
       "          restecg     thalach       exang     oldpeak       slope          ca  \\\n",
       "count  303.000000  303.000000  303.000000  303.000000  303.000000  303.000000   \n",
       "mean     0.528053  149.646865    0.326733    1.039604    1.399340    0.729373   \n",
       "std      0.525860   22.905161    0.469794    1.161075    0.616226    1.022606   \n",
       "min      0.000000   71.000000    0.000000    0.000000    0.000000    0.000000   \n",
       "25%      0.000000  133.500000    0.000000    0.000000    1.000000    0.000000   \n",
       "50%      1.000000  153.000000    0.000000    0.800000    1.000000    0.000000   \n",
       "75%      1.000000  166.000000    1.000000    1.600000    2.000000    1.000000   \n",
       "max      2.000000  202.000000    1.000000    6.200000    2.000000    4.000000   \n",
       "\n",
       "             thal      target  \n",
       "count  303.000000  303.000000  \n",
       "mean     2.313531    0.544554  \n",
       "std      0.612277    0.498835  \n",
       "min      0.000000    0.000000  \n",
       "25%      2.000000    0.000000  \n",
       "50%      2.000000    1.000000  \n",
       "75%      3.000000    1.000000  \n",
       "max      3.000000    1.000000  "
      ]
     },
     "execution_count": 9,
     "metadata": {},
     "output_type": "execute_result"
    }
   ],
   "source": [
    "# What is the basic data description?\n",
    "data.describe()"
   ]
  },
  {
   "cell_type": "code",
   "execution_count": 10,
   "id": "1b9c2eae",
   "metadata": {},
   "outputs": [],
   "source": [
    "### Comment: there are some difference between data columns description of the dataset taken after the Google research and the \n",
    "###          data desription received after the 'describe()' method:\n",
    "###          1) In the 'ca' column number of major vessels is not 4, but 5 (0-4)\n",
    "###          2) 'thal' column has the range from 0 to 3, but not from 1 to 3.\n",
    "### The frist notation can be ignored, but with the second I don't know what to do. There is not enough info I received"
   ]
  },
  {
   "cell_type": "markdown",
   "id": "a96e9983",
   "metadata": {},
   "source": [
    "# 2.Data Filtering\n",
    "#### 2.1. Outliers\n",
    "#### 2.2. Errors/Noise\n",
    "#### 2.3. Duplicates\n",
    "#### 2.4. Invalid data"
   ]
  },
  {
   "cell_type": "markdown",
   "id": "933a53fe",
   "metadata": {},
   "source": [
    "### 2.1. Outliers\n",
    "I didn't found any outliers. All the data in this dataset is useful for the data analysis and machine learning"
   ]
  },
  {
   "cell_type": "markdown",
   "id": "9e811654",
   "metadata": {},
   "source": [
    "### 2.2. Errors/Noise"
   ]
  },
  {
   "cell_type": "code",
   "execution_count": 11,
   "id": "d2d44c2f",
   "metadata": {},
   "outputs": [
    {
     "data": {
      "text/plain": [
       "age         0\n",
       "sex         0\n",
       "cp          0\n",
       "trestbps    0\n",
       "chol        0\n",
       "fbs         0\n",
       "restecg     0\n",
       "thalach     0\n",
       "exang       0\n",
       "oldpeak     0\n",
       "slope       0\n",
       "ca          0\n",
       "thal        0\n",
       "target      0\n",
       "dtype: int64"
      ]
     },
     "execution_count": 11,
     "metadata": {},
     "output_type": "execute_result"
    }
   ],
   "source": [
    "# Are there any missing values in the dataset?\n",
    "data.isnull().sum()"
   ]
  },
  {
   "cell_type": "code",
   "execution_count": 12,
   "id": "a97d6cc7",
   "metadata": {},
   "outputs": [],
   "source": [
    "### Comment: As was mentioned earlier, there are not null values"
   ]
  },
  {
   "cell_type": "markdown",
   "id": "12974f0f",
   "metadata": {},
   "source": [
    "### 2.3. Duplicates"
   ]
  },
  {
   "cell_type": "code",
   "execution_count": 13,
   "id": "e3fd0f0d",
   "metadata": {},
   "outputs": [
    {
     "data": {
      "text/plain": [
       "1"
      ]
     },
     "execution_count": 13,
     "metadata": {},
     "output_type": "execute_result"
    }
   ],
   "source": [
    "# Are there any duplicates in the dataset?\n",
    "data.duplicated().sum()"
   ]
  },
  {
   "cell_type": "code",
   "execution_count": 14,
   "id": "24b7278a",
   "metadata": {},
   "outputs": [],
   "source": [
    "### Comment: there is one duplication row"
   ]
  },
  {
   "cell_type": "code",
   "execution_count": 15,
   "id": "acd317d2",
   "metadata": {},
   "outputs": [
    {
     "name": "stdout",
     "output_type": "stream",
     "text": [
      "(303, 14)\n",
      "(302, 14)\n"
     ]
    }
   ],
   "source": [
    "# How to drop the duplication row?\n",
    "print(data.shape)\n",
    "data = data.drop_duplicates()\n",
    "print(data.shape)"
   ]
  },
  {
   "cell_type": "code",
   "execution_count": 16,
   "id": "1c105fa5",
   "metadata": {},
   "outputs": [
    {
     "data": {
      "text/plain": [
       "0"
      ]
     },
     "execution_count": 16,
     "metadata": {},
     "output_type": "execute_result"
    }
   ],
   "source": [
    "### Comment: duplicated row was succesfully deleted\n",
    "## Simple check:\n",
    "data.duplicated().sum()"
   ]
  },
  {
   "cell_type": "markdown",
   "id": "3d96e746",
   "metadata": {},
   "source": [
    "### 2.4. Invalid data\n",
    "Invalid data was not found"
   ]
  },
  {
   "cell_type": "markdown",
   "id": "f34bb825",
   "metadata": {},
   "source": [
    "# 3.Data Transformation\n",
    "#### 3.1.Columns renaming ( if is necessary for better data orientation)\n",
    "#### 3.2.Formatting ( Data type conversion, Datetime cast)\n",
    "#### 3.3.Translation/ Mapping\n",
    "#### 3.4.Text to integer/float\n"
   ]
  },
  {
   "cell_type": "markdown",
   "id": "68b9b34a",
   "metadata": {},
   "source": [
    "## 3.1.Columns renaming"
   ]
  },
  {
   "cell_type": "code",
   "execution_count": 17,
   "id": "c7249c36",
   "metadata": {},
   "outputs": [],
   "source": [
    "# How it would be suitable to name the columns?\n",
    "data.columns = ['age', 'sex', 'chest_pain', 'resisting_blood_pressure','cholesterol', \n",
    "                'fasting_bood_glucose', 'resisting_ecg', 'max_heart_rate', 'angina_exercice', 'st_describ', \n",
    "                'slope', 'major_vassels', 'thallium_stress', 'result']"
   ]
  },
  {
   "cell_type": "code",
   "execution_count": 18,
   "id": "607eff73",
   "metadata": {},
   "outputs": [],
   "source": [
    "### Comment: some of the columns where renamed for better working with the data\n",
    "### age -> age \n",
    "### sex -> sex\n",
    "### cp -> chest_pain\n",
    "### trestbps -> resisting_blood_pressure\n",
    "### chol -> cholesterol\n",
    "### fbs -> fasting_bood_glucose\n",
    "### restecg -> resisting_ecg\n",
    "### thalach -> max_heart_rate\n",
    "### exang -> angina_exercice\n",
    "### oldpeak -> st_describ\n",
    "### slope -> slope\n",
    "### ca -> major_vassels\n",
    "### thal -> thallium_stress\n",
    "### target -> result"
   ]
  },
  {
   "cell_type": "code",
   "execution_count": 19,
   "id": "f9a32e4e",
   "metadata": {},
   "outputs": [
    {
     "data": {
      "text/html": [
       "<div>\n",
       "<style scoped>\n",
       "    .dataframe tbody tr th:only-of-type {\n",
       "        vertical-align: middle;\n",
       "    }\n",
       "\n",
       "    .dataframe tbody tr th {\n",
       "        vertical-align: top;\n",
       "    }\n",
       "\n",
       "    .dataframe thead th {\n",
       "        text-align: right;\n",
       "    }\n",
       "</style>\n",
       "<table border=\"1\" class=\"dataframe\">\n",
       "  <thead>\n",
       "    <tr style=\"text-align: right;\">\n",
       "      <th></th>\n",
       "      <th>age</th>\n",
       "      <th>sex</th>\n",
       "      <th>chest_pain</th>\n",
       "      <th>resisting_blood_pressure</th>\n",
       "      <th>cholesterol</th>\n",
       "      <th>fasting_bood_glucose</th>\n",
       "      <th>resisting_ecg</th>\n",
       "      <th>max_heart_rate</th>\n",
       "      <th>angina_exercice</th>\n",
       "      <th>st_describ</th>\n",
       "      <th>slope</th>\n",
       "      <th>major_vassels</th>\n",
       "      <th>thallium_stress</th>\n",
       "      <th>result</th>\n",
       "    </tr>\n",
       "  </thead>\n",
       "  <tbody>\n",
       "    <tr>\n",
       "      <th>0</th>\n",
       "      <td>63</td>\n",
       "      <td>1</td>\n",
       "      <td>3</td>\n",
       "      <td>145</td>\n",
       "      <td>233</td>\n",
       "      <td>1</td>\n",
       "      <td>0</td>\n",
       "      <td>150</td>\n",
       "      <td>0</td>\n",
       "      <td>2.3</td>\n",
       "      <td>0</td>\n",
       "      <td>0</td>\n",
       "      <td>1</td>\n",
       "      <td>1</td>\n",
       "    </tr>\n",
       "    <tr>\n",
       "      <th>1</th>\n",
       "      <td>37</td>\n",
       "      <td>1</td>\n",
       "      <td>2</td>\n",
       "      <td>130</td>\n",
       "      <td>250</td>\n",
       "      <td>0</td>\n",
       "      <td>1</td>\n",
       "      <td>187</td>\n",
       "      <td>0</td>\n",
       "      <td>3.5</td>\n",
       "      <td>0</td>\n",
       "      <td>0</td>\n",
       "      <td>2</td>\n",
       "      <td>1</td>\n",
       "    </tr>\n",
       "    <tr>\n",
       "      <th>2</th>\n",
       "      <td>41</td>\n",
       "      <td>0</td>\n",
       "      <td>1</td>\n",
       "      <td>130</td>\n",
       "      <td>204</td>\n",
       "      <td>0</td>\n",
       "      <td>0</td>\n",
       "      <td>172</td>\n",
       "      <td>0</td>\n",
       "      <td>1.4</td>\n",
       "      <td>2</td>\n",
       "      <td>0</td>\n",
       "      <td>2</td>\n",
       "      <td>1</td>\n",
       "    </tr>\n",
       "    <tr>\n",
       "      <th>3</th>\n",
       "      <td>56</td>\n",
       "      <td>1</td>\n",
       "      <td>1</td>\n",
       "      <td>120</td>\n",
       "      <td>236</td>\n",
       "      <td>0</td>\n",
       "      <td>1</td>\n",
       "      <td>178</td>\n",
       "      <td>0</td>\n",
       "      <td>0.8</td>\n",
       "      <td>2</td>\n",
       "      <td>0</td>\n",
       "      <td>2</td>\n",
       "      <td>1</td>\n",
       "    </tr>\n",
       "    <tr>\n",
       "      <th>4</th>\n",
       "      <td>57</td>\n",
       "      <td>0</td>\n",
       "      <td>0</td>\n",
       "      <td>120</td>\n",
       "      <td>354</td>\n",
       "      <td>0</td>\n",
       "      <td>1</td>\n",
       "      <td>163</td>\n",
       "      <td>1</td>\n",
       "      <td>0.6</td>\n",
       "      <td>2</td>\n",
       "      <td>0</td>\n",
       "      <td>2</td>\n",
       "      <td>1</td>\n",
       "    </tr>\n",
       "  </tbody>\n",
       "</table>\n",
       "</div>"
      ],
      "text/plain": [
       "   age  sex  chest_pain  resisting_blood_pressure  cholesterol  \\\n",
       "0   63    1           3                       145          233   \n",
       "1   37    1           2                       130          250   \n",
       "2   41    0           1                       130          204   \n",
       "3   56    1           1                       120          236   \n",
       "4   57    0           0                       120          354   \n",
       "\n",
       "   fasting_bood_glucose  resisting_ecg  max_heart_rate  angina_exercice  \\\n",
       "0                     1              0             150                0   \n",
       "1                     0              1             187                0   \n",
       "2                     0              0             172                0   \n",
       "3                     0              1             178                0   \n",
       "4                     0              1             163                1   \n",
       "\n",
       "   st_describ  slope  major_vassels  thallium_stress  result  \n",
       "0         2.3      0              0                1       1  \n",
       "1         3.5      0              0                2       1  \n",
       "2         1.4      2              0                2       1  \n",
       "3         0.8      2              0                2       1  \n",
       "4         0.6      2              0                2       1  "
      ]
     },
     "execution_count": 19,
     "metadata": {},
     "output_type": "execute_result"
    }
   ],
   "source": [
    "data.head()"
   ]
  },
  {
   "cell_type": "markdown",
   "id": "cf1af936",
   "metadata": {},
   "source": [
    "## 3.2.Formatting ( Data type conversion, Datetime cast)"
   ]
  },
  {
   "cell_type": "code",
   "execution_count": 20,
   "id": "8526b8e2",
   "metadata": {},
   "outputs": [
    {
     "name": "stdout",
     "output_type": "stream",
     "text": [
      "<class 'pandas.core.frame.DataFrame'>\n",
      "Int64Index: 302 entries, 0 to 302\n",
      "Data columns (total 14 columns):\n",
      " #   Column                    Non-Null Count  Dtype  \n",
      "---  ------                    --------------  -----  \n",
      " 0   age                       302 non-null    int64  \n",
      " 1   sex                       302 non-null    int64  \n",
      " 2   chest_pain                302 non-null    int64  \n",
      " 3   resisting_blood_pressure  302 non-null    int64  \n",
      " 4   cholesterol               302 non-null    int64  \n",
      " 5   fasting_bood_glucose      302 non-null    int64  \n",
      " 6   resisting_ecg             302 non-null    int64  \n",
      " 7   max_heart_rate            302 non-null    int64  \n",
      " 8   angina_exercice           302 non-null    int64  \n",
      " 9   st_describ                302 non-null    float64\n",
      " 10  slope                     302 non-null    int64  \n",
      " 11  major_vassels             302 non-null    int64  \n",
      " 12  thallium_stress           302 non-null    int64  \n",
      " 13  result                    302 non-null    int64  \n",
      "dtypes: float64(1), int64(13)\n",
      "memory usage: 35.4 KB\n"
     ]
    }
   ],
   "source": [
    "# remind the common info about the data\n",
    "data.info()"
   ]
  },
  {
   "cell_type": "code",
   "execution_count": 21,
   "id": "edde2f28",
   "metadata": {},
   "outputs": [
    {
     "data": {
      "text/html": [
       "<div>\n",
       "<style scoped>\n",
       "    .dataframe tbody tr th:only-of-type {\n",
       "        vertical-align: middle;\n",
       "    }\n",
       "\n",
       "    .dataframe tbody tr th {\n",
       "        vertical-align: top;\n",
       "    }\n",
       "\n",
       "    .dataframe thead th {\n",
       "        text-align: right;\n",
       "    }\n",
       "</style>\n",
       "<table border=\"1\" class=\"dataframe\">\n",
       "  <thead>\n",
       "    <tr style=\"text-align: right;\">\n",
       "      <th></th>\n",
       "      <th>0</th>\n",
       "      <th>1</th>\n",
       "    </tr>\n",
       "  </thead>\n",
       "  <tbody>\n",
       "    <tr>\n",
       "      <th>0</th>\n",
       "      <td>0</td>\n",
       "      <td>1</td>\n",
       "    </tr>\n",
       "    <tr>\n",
       "      <th>1</th>\n",
       "      <td>0</td>\n",
       "      <td>1</td>\n",
       "    </tr>\n",
       "    <tr>\n",
       "      <th>2</th>\n",
       "      <td>0</td>\n",
       "      <td>1</td>\n",
       "    </tr>\n",
       "    <tr>\n",
       "      <th>3</th>\n",
       "      <td>0</td>\n",
       "      <td>1</td>\n",
       "    </tr>\n",
       "    <tr>\n",
       "      <th>4</th>\n",
       "      <td>0</td>\n",
       "      <td>1</td>\n",
       "    </tr>\n",
       "    <tr>\n",
       "      <th>...</th>\n",
       "      <td>...</td>\n",
       "      <td>...</td>\n",
       "    </tr>\n",
       "    <tr>\n",
       "      <th>298</th>\n",
       "      <td>1</td>\n",
       "      <td>0</td>\n",
       "    </tr>\n",
       "    <tr>\n",
       "      <th>299</th>\n",
       "      <td>1</td>\n",
       "      <td>0</td>\n",
       "    </tr>\n",
       "    <tr>\n",
       "      <th>300</th>\n",
       "      <td>1</td>\n",
       "      <td>0</td>\n",
       "    </tr>\n",
       "    <tr>\n",
       "      <th>301</th>\n",
       "      <td>1</td>\n",
       "      <td>0</td>\n",
       "    </tr>\n",
       "    <tr>\n",
       "      <th>302</th>\n",
       "      <td>1</td>\n",
       "      <td>0</td>\n",
       "    </tr>\n",
       "  </tbody>\n",
       "</table>\n",
       "<p>302 rows × 2 columns</p>\n",
       "</div>"
      ],
      "text/plain": [
       "     0  1\n",
       "0    0  1\n",
       "1    0  1\n",
       "2    0  1\n",
       "3    0  1\n",
       "4    0  1\n",
       "..  .. ..\n",
       "298  1  0\n",
       "299  1  0\n",
       "300  1  0\n",
       "301  1  0\n",
       "302  1  0\n",
       "\n",
       "[302 rows x 2 columns]"
      ]
     },
     "execution_count": 21,
     "metadata": {},
     "output_type": "execute_result"
    }
   ],
   "source": [
    "# How does the get_dimmies() method work?\n",
    "pd.get_dummies(data['result'])"
   ]
  },
  {
   "cell_type": "code",
   "execution_count": 22,
   "id": "ccf3de04",
   "metadata": {},
   "outputs": [],
   "source": [
    "# Create a copy of the dataset\n",
    "data_copy = data.copy()\n",
    "### Whould it be easier to split the data like 'chest_pain' using get_dummies?\n",
    "data_dummy = pd.get_dummies(data_copy.chest_pain)\n",
    "data_dummy.columns = ['Typical angina','Atypical angina', 'Non-angina pain', 'Asymptomatic']\n",
    "data_copy = data_copy.join(data_dummy)"
   ]
  },
  {
   "cell_type": "code",
   "execution_count": 23,
   "id": "816e49cb",
   "metadata": {},
   "outputs": [
    {
     "data": {
      "text/html": [
       "<div>\n",
       "<style scoped>\n",
       "    .dataframe tbody tr th:only-of-type {\n",
       "        vertical-align: middle;\n",
       "    }\n",
       "\n",
       "    .dataframe tbody tr th {\n",
       "        vertical-align: top;\n",
       "    }\n",
       "\n",
       "    .dataframe thead th {\n",
       "        text-align: right;\n",
       "    }\n",
       "</style>\n",
       "<table border=\"1\" class=\"dataframe\">\n",
       "  <thead>\n",
       "    <tr style=\"text-align: right;\">\n",
       "      <th></th>\n",
       "      <th>age</th>\n",
       "      <th>sex</th>\n",
       "      <th>chest_pain</th>\n",
       "      <th>resisting_blood_pressure</th>\n",
       "      <th>cholesterol</th>\n",
       "      <th>fasting_bood_glucose</th>\n",
       "      <th>resisting_ecg</th>\n",
       "      <th>max_heart_rate</th>\n",
       "      <th>angina_exercice</th>\n",
       "      <th>st_describ</th>\n",
       "      <th>slope</th>\n",
       "      <th>major_vassels</th>\n",
       "      <th>thallium_stress</th>\n",
       "      <th>result</th>\n",
       "      <th>Typical angina</th>\n",
       "      <th>Atypical angina</th>\n",
       "      <th>Non-angina pain</th>\n",
       "      <th>Asymptomatic</th>\n",
       "    </tr>\n",
       "  </thead>\n",
       "  <tbody>\n",
       "    <tr>\n",
       "      <th>0</th>\n",
       "      <td>63</td>\n",
       "      <td>1</td>\n",
       "      <td>3</td>\n",
       "      <td>145</td>\n",
       "      <td>233</td>\n",
       "      <td>1</td>\n",
       "      <td>0</td>\n",
       "      <td>150</td>\n",
       "      <td>0</td>\n",
       "      <td>2.3</td>\n",
       "      <td>0</td>\n",
       "      <td>0</td>\n",
       "      <td>1</td>\n",
       "      <td>1</td>\n",
       "      <td>0</td>\n",
       "      <td>0</td>\n",
       "      <td>0</td>\n",
       "      <td>1</td>\n",
       "    </tr>\n",
       "    <tr>\n",
       "      <th>1</th>\n",
       "      <td>37</td>\n",
       "      <td>1</td>\n",
       "      <td>2</td>\n",
       "      <td>130</td>\n",
       "      <td>250</td>\n",
       "      <td>0</td>\n",
       "      <td>1</td>\n",
       "      <td>187</td>\n",
       "      <td>0</td>\n",
       "      <td>3.5</td>\n",
       "      <td>0</td>\n",
       "      <td>0</td>\n",
       "      <td>2</td>\n",
       "      <td>1</td>\n",
       "      <td>0</td>\n",
       "      <td>0</td>\n",
       "      <td>1</td>\n",
       "      <td>0</td>\n",
       "    </tr>\n",
       "    <tr>\n",
       "      <th>2</th>\n",
       "      <td>41</td>\n",
       "      <td>0</td>\n",
       "      <td>1</td>\n",
       "      <td>130</td>\n",
       "      <td>204</td>\n",
       "      <td>0</td>\n",
       "      <td>0</td>\n",
       "      <td>172</td>\n",
       "      <td>0</td>\n",
       "      <td>1.4</td>\n",
       "      <td>2</td>\n",
       "      <td>0</td>\n",
       "      <td>2</td>\n",
       "      <td>1</td>\n",
       "      <td>0</td>\n",
       "      <td>1</td>\n",
       "      <td>0</td>\n",
       "      <td>0</td>\n",
       "    </tr>\n",
       "    <tr>\n",
       "      <th>3</th>\n",
       "      <td>56</td>\n",
       "      <td>1</td>\n",
       "      <td>1</td>\n",
       "      <td>120</td>\n",
       "      <td>236</td>\n",
       "      <td>0</td>\n",
       "      <td>1</td>\n",
       "      <td>178</td>\n",
       "      <td>0</td>\n",
       "      <td>0.8</td>\n",
       "      <td>2</td>\n",
       "      <td>0</td>\n",
       "      <td>2</td>\n",
       "      <td>1</td>\n",
       "      <td>0</td>\n",
       "      <td>1</td>\n",
       "      <td>0</td>\n",
       "      <td>0</td>\n",
       "    </tr>\n",
       "    <tr>\n",
       "      <th>4</th>\n",
       "      <td>57</td>\n",
       "      <td>0</td>\n",
       "      <td>0</td>\n",
       "      <td>120</td>\n",
       "      <td>354</td>\n",
       "      <td>0</td>\n",
       "      <td>1</td>\n",
       "      <td>163</td>\n",
       "      <td>1</td>\n",
       "      <td>0.6</td>\n",
       "      <td>2</td>\n",
       "      <td>0</td>\n",
       "      <td>2</td>\n",
       "      <td>1</td>\n",
       "      <td>1</td>\n",
       "      <td>0</td>\n",
       "      <td>0</td>\n",
       "      <td>0</td>\n",
       "    </tr>\n",
       "    <tr>\n",
       "      <th>...</th>\n",
       "      <td>...</td>\n",
       "      <td>...</td>\n",
       "      <td>...</td>\n",
       "      <td>...</td>\n",
       "      <td>...</td>\n",
       "      <td>...</td>\n",
       "      <td>...</td>\n",
       "      <td>...</td>\n",
       "      <td>...</td>\n",
       "      <td>...</td>\n",
       "      <td>...</td>\n",
       "      <td>...</td>\n",
       "      <td>...</td>\n",
       "      <td>...</td>\n",
       "      <td>...</td>\n",
       "      <td>...</td>\n",
       "      <td>...</td>\n",
       "      <td>...</td>\n",
       "    </tr>\n",
       "    <tr>\n",
       "      <th>298</th>\n",
       "      <td>57</td>\n",
       "      <td>0</td>\n",
       "      <td>0</td>\n",
       "      <td>140</td>\n",
       "      <td>241</td>\n",
       "      <td>0</td>\n",
       "      <td>1</td>\n",
       "      <td>123</td>\n",
       "      <td>1</td>\n",
       "      <td>0.2</td>\n",
       "      <td>1</td>\n",
       "      <td>0</td>\n",
       "      <td>3</td>\n",
       "      <td>0</td>\n",
       "      <td>1</td>\n",
       "      <td>0</td>\n",
       "      <td>0</td>\n",
       "      <td>0</td>\n",
       "    </tr>\n",
       "    <tr>\n",
       "      <th>299</th>\n",
       "      <td>45</td>\n",
       "      <td>1</td>\n",
       "      <td>3</td>\n",
       "      <td>110</td>\n",
       "      <td>264</td>\n",
       "      <td>0</td>\n",
       "      <td>1</td>\n",
       "      <td>132</td>\n",
       "      <td>0</td>\n",
       "      <td>1.2</td>\n",
       "      <td>1</td>\n",
       "      <td>0</td>\n",
       "      <td>3</td>\n",
       "      <td>0</td>\n",
       "      <td>0</td>\n",
       "      <td>0</td>\n",
       "      <td>0</td>\n",
       "      <td>1</td>\n",
       "    </tr>\n",
       "    <tr>\n",
       "      <th>300</th>\n",
       "      <td>68</td>\n",
       "      <td>1</td>\n",
       "      <td>0</td>\n",
       "      <td>144</td>\n",
       "      <td>193</td>\n",
       "      <td>1</td>\n",
       "      <td>1</td>\n",
       "      <td>141</td>\n",
       "      <td>0</td>\n",
       "      <td>3.4</td>\n",
       "      <td>1</td>\n",
       "      <td>2</td>\n",
       "      <td>3</td>\n",
       "      <td>0</td>\n",
       "      <td>1</td>\n",
       "      <td>0</td>\n",
       "      <td>0</td>\n",
       "      <td>0</td>\n",
       "    </tr>\n",
       "    <tr>\n",
       "      <th>301</th>\n",
       "      <td>57</td>\n",
       "      <td>1</td>\n",
       "      <td>0</td>\n",
       "      <td>130</td>\n",
       "      <td>131</td>\n",
       "      <td>0</td>\n",
       "      <td>1</td>\n",
       "      <td>115</td>\n",
       "      <td>1</td>\n",
       "      <td>1.2</td>\n",
       "      <td>1</td>\n",
       "      <td>1</td>\n",
       "      <td>3</td>\n",
       "      <td>0</td>\n",
       "      <td>1</td>\n",
       "      <td>0</td>\n",
       "      <td>0</td>\n",
       "      <td>0</td>\n",
       "    </tr>\n",
       "    <tr>\n",
       "      <th>302</th>\n",
       "      <td>57</td>\n",
       "      <td>0</td>\n",
       "      <td>1</td>\n",
       "      <td>130</td>\n",
       "      <td>236</td>\n",
       "      <td>0</td>\n",
       "      <td>0</td>\n",
       "      <td>174</td>\n",
       "      <td>0</td>\n",
       "      <td>0.0</td>\n",
       "      <td>1</td>\n",
       "      <td>1</td>\n",
       "      <td>2</td>\n",
       "      <td>0</td>\n",
       "      <td>0</td>\n",
       "      <td>1</td>\n",
       "      <td>0</td>\n",
       "      <td>0</td>\n",
       "    </tr>\n",
       "  </tbody>\n",
       "</table>\n",
       "<p>302 rows × 18 columns</p>\n",
       "</div>"
      ],
      "text/plain": [
       "     age  sex  chest_pain  resisting_blood_pressure  cholesterol  \\\n",
       "0     63    1           3                       145          233   \n",
       "1     37    1           2                       130          250   \n",
       "2     41    0           1                       130          204   \n",
       "3     56    1           1                       120          236   \n",
       "4     57    0           0                       120          354   \n",
       "..   ...  ...         ...                       ...          ...   \n",
       "298   57    0           0                       140          241   \n",
       "299   45    1           3                       110          264   \n",
       "300   68    1           0                       144          193   \n",
       "301   57    1           0                       130          131   \n",
       "302   57    0           1                       130          236   \n",
       "\n",
       "     fasting_bood_glucose  resisting_ecg  max_heart_rate  angina_exercice  \\\n",
       "0                       1              0             150                0   \n",
       "1                       0              1             187                0   \n",
       "2                       0              0             172                0   \n",
       "3                       0              1             178                0   \n",
       "4                       0              1             163                1   \n",
       "..                    ...            ...             ...              ...   \n",
       "298                     0              1             123                1   \n",
       "299                     0              1             132                0   \n",
       "300                     1              1             141                0   \n",
       "301                     0              1             115                1   \n",
       "302                     0              0             174                0   \n",
       "\n",
       "     st_describ  slope  major_vassels  thallium_stress  result  \\\n",
       "0           2.3      0              0                1       1   \n",
       "1           3.5      0              0                2       1   \n",
       "2           1.4      2              0                2       1   \n",
       "3           0.8      2              0                2       1   \n",
       "4           0.6      2              0                2       1   \n",
       "..          ...    ...            ...              ...     ...   \n",
       "298         0.2      1              0                3       0   \n",
       "299         1.2      1              0                3       0   \n",
       "300         3.4      1              2                3       0   \n",
       "301         1.2      1              1                3       0   \n",
       "302         0.0      1              1                2       0   \n",
       "\n",
       "     Typical angina  Atypical angina  Non-angina pain  Asymptomatic  \n",
       "0                 0                0                0             1  \n",
       "1                 0                0                1             0  \n",
       "2                 0                1                0             0  \n",
       "3                 0                1                0             0  \n",
       "4                 1                0                0             0  \n",
       "..              ...              ...              ...           ...  \n",
       "298               1                0                0             0  \n",
       "299               0                0                0             1  \n",
       "300               1                0                0             0  \n",
       "301               1                0                0             0  \n",
       "302               0                1                0             0  \n",
       "\n",
       "[302 rows x 18 columns]"
      ]
     },
     "execution_count": 23,
     "metadata": {},
     "output_type": "execute_result"
    }
   ],
   "source": [
    "### Comment: later it would be used for the easier data visualization \n",
    "data_copy"
   ]
  },
  {
   "cell_type": "markdown",
   "id": "9cb02675",
   "metadata": {},
   "source": [
    "## 4.Data Exploration\n",
    "#### Trends\n",
    "#### Relationships\n",
    "#### Anomalies\n",
    "#### Patterns\n",
    "#### Hypothesis testing\n",
    "#### Data Visualisation"
   ]
  },
  {
   "cell_type": "code",
   "execution_count": 24,
   "id": "426d1c11",
   "metadata": {},
   "outputs": [
    {
     "data": {
      "text/plain": [
       "1    0.543046\n",
       "0    0.456954\n",
       "Name: result, dtype: float64"
      ]
     },
     "execution_count": 24,
     "metadata": {},
     "output_type": "execute_result"
    }
   ],
   "source": [
    "data['result'].value_counts(normalize=True)"
   ]
  },
  {
   "cell_type": "code",
   "execution_count": 25,
   "id": "6b04ee6a",
   "metadata": {},
   "outputs": [],
   "source": [
    "### Comment: ~54% of people in the dataset have heart didease and ~46% - don't have it"
   ]
  },
  {
   "cell_type": "code",
   "execution_count": 26,
   "id": "6d80467f",
   "metadata": {},
   "outputs": [
    {
     "data": {
      "text/plain": [
       "<AxesSubplot:ylabel='result'>"
      ]
     },
     "execution_count": 26,
     "metadata": {},
     "output_type": "execute_result"
    },
    {
     "data": {
      "image/png": "[encoded data removed]",
      "text/plain": [
       "<Figure size 640x480 with 1 Axes>"
      ]
     },
     "metadata": {},
     "output_type": "display_data"
    }
   ],
   "source": [
    "data['result'].value_counts(normalize=True).plot(kind='pie')"
   ]
  },
  {
   "cell_type": "code",
   "execution_count": 27,
   "id": "fbf69d3a",
   "metadata": {
    "scrolled": false
   },
   "outputs": [
    {
     "data": {
      "text/plain": [
       "array([[<AxesSubplot:title={'center':'age'}>,\n",
       "        <AxesSubplot:title={'center':'sex'}>,\n",
       "        <AxesSubplot:title={'center':'chest_pain'}>,\n",
       "        <AxesSubplot:title={'center':'resisting_blood_pressure'}>],\n",
       "       [<AxesSubplot:title={'center':'cholesterol'}>,\n",
       "        <AxesSubplot:title={'center':'fasting_bood_glucose'}>,\n",
       "        <AxesSubplot:title={'center':'resisting_ecg'}>,\n",
       "        <AxesSubplot:title={'center':'max_heart_rate'}>],\n",
       "       [<AxesSubplot:title={'center':'angina_exercice'}>,\n",
       "        <AxesSubplot:title={'center':'st_describ'}>,\n",
       "        <AxesSubplot:title={'center':'slope'}>,\n",
       "        <AxesSubplot:title={'center':'major_vassels'}>],\n",
       "       [<AxesSubplot:title={'center':'thallium_stress'}>,\n",
       "        <AxesSubplot:title={'center':'result'}>, <AxesSubplot:>,\n",
       "        <AxesSubplot:>]], dtype=object)"
      ]
     },
     "execution_count": 27,
     "metadata": {},
     "output_type": "execute_result"
    },
    {
     "data": {
      "image/png": "[encoded data removed]",
      "text/plain": [
       "<Figure size 2500x2500 with 16 Axes>"
      ]
     },
     "metadata": {},
     "output_type": "display_data"
    }
   ],
   "source": [
    "# How does the data look like separatelly?\n",
    "data.hist(figsize=(25, 25))"
   ]
  },
  {
   "cell_type": "code",
   "execution_count": 28,
   "id": "8771fcca",
   "metadata": {},
   "outputs": [],
   "source": [
    "###  Conclusion according to the histogramms:\n",
    "### 1) There are almost twice as much men then wemen\n",
    "### 2) almost all the people from the dataset are over 35 y.o.\n",
    "### 3) dominated chest pains are: Typical angina and Non-angina pain\n",
    "### 4) most people from the dataset have high serum cholesterol\n",
    "### 5) there are ~five times more people with normal fastind blood glucose \n",
    "### 6) resisting ecg data has small number of ST wave abnormality \n",
    "### 7) twice as many people withoun angina experience\n",
    "### 8) dominated thallium test results are: Reversable defect and normal\n",
    "### 9) people with well working all the vassels are equal to the sum of others "
   ]
  },
  {
   "cell_type": "code",
   "execution_count": 29,
   "id": "de18b666",
   "metadata": {},
   "outputs": [
    {
     "data": {
      "text/html": [
       "<div>\n",
       "<style scoped>\n",
       "    .dataframe tbody tr th:only-of-type {\n",
       "        vertical-align: middle;\n",
       "    }\n",
       "\n",
       "    .dataframe tbody tr th {\n",
       "        vertical-align: top;\n",
       "    }\n",
       "\n",
       "    .dataframe thead th {\n",
       "        text-align: right;\n",
       "    }\n",
       "</style>\n",
       "<table border=\"1\" class=\"dataframe\">\n",
       "  <thead>\n",
       "    <tr style=\"text-align: right;\">\n",
       "      <th></th>\n",
       "      <th>age</th>\n",
       "      <th>sex</th>\n",
       "      <th>chest_pain</th>\n",
       "      <th>resisting_blood_pressure</th>\n",
       "      <th>cholesterol</th>\n",
       "      <th>fasting_bood_glucose</th>\n",
       "      <th>resisting_ecg</th>\n",
       "      <th>max_heart_rate</th>\n",
       "      <th>angina_exercice</th>\n",
       "      <th>st_describ</th>\n",
       "      <th>slope</th>\n",
       "      <th>major_vassels</th>\n",
       "      <th>thallium_stress</th>\n",
       "    </tr>\n",
       "    <tr>\n",
       "      <th>result</th>\n",
       "      <th></th>\n",
       "      <th></th>\n",
       "      <th></th>\n",
       "      <th></th>\n",
       "      <th></th>\n",
       "      <th></th>\n",
       "      <th></th>\n",
       "      <th></th>\n",
       "      <th></th>\n",
       "      <th></th>\n",
       "      <th></th>\n",
       "      <th></th>\n",
       "      <th></th>\n",
       "    </tr>\n",
       "  </thead>\n",
       "  <tbody>\n",
       "    <tr>\n",
       "      <th>0</th>\n",
       "      <td>56.601449</td>\n",
       "      <td>0.826087</td>\n",
       "      <td>0.478261</td>\n",
       "      <td>134.398551</td>\n",
       "      <td>251.086957</td>\n",
       "      <td>0.159420</td>\n",
       "      <td>0.449275</td>\n",
       "      <td>139.101449</td>\n",
       "      <td>0.550725</td>\n",
       "      <td>1.585507</td>\n",
       "      <td>1.166667</td>\n",
       "      <td>1.166667</td>\n",
       "      <td>2.543478</td>\n",
       "    </tr>\n",
       "    <tr>\n",
       "      <th>1</th>\n",
       "      <td>52.585366</td>\n",
       "      <td>0.560976</td>\n",
       "      <td>1.371951</td>\n",
       "      <td>129.250000</td>\n",
       "      <td>242.640244</td>\n",
       "      <td>0.140244</td>\n",
       "      <td>0.591463</td>\n",
       "      <td>158.378049</td>\n",
       "      <td>0.140244</td>\n",
       "      <td>0.586585</td>\n",
       "      <td>1.591463</td>\n",
       "      <td>0.341463</td>\n",
       "      <td>2.121951</td>\n",
       "    </tr>\n",
       "  </tbody>\n",
       "</table>\n",
       "</div>"
      ],
      "text/plain": [
       "              age       sex  chest_pain  resisting_blood_pressure  \\\n",
       "result                                                              \n",
       "0       56.601449  0.826087    0.478261                134.398551   \n",
       "1       52.585366  0.560976    1.371951                129.250000   \n",
       "\n",
       "        cholesterol  fasting_bood_glucose  resisting_ecg  max_heart_rate  \\\n",
       "result                                                                     \n",
       "0        251.086957              0.159420       0.449275      139.101449   \n",
       "1        242.640244              0.140244       0.591463      158.378049   \n",
       "\n",
       "        angina_exercice  st_describ     slope  major_vassels  thallium_stress  \n",
       "result                                                                         \n",
       "0              0.550725    1.585507  1.166667       1.166667         2.543478  \n",
       "1              0.140244    0.586585  1.591463       0.341463         2.121951  "
      ]
     },
     "execution_count": 29,
     "metadata": {},
     "output_type": "execute_result"
    }
   ],
   "source": [
    "# What columns grouped by results has the largest difference of mean?\n",
    "data.groupby('result').mean()"
   ]
  },
  {
   "cell_type": "code",
   "execution_count": 30,
   "id": "a769d917",
   "metadata": {},
   "outputs": [],
   "source": [
    "### Comment: the people with heard disease have less angina exerience, state description and major_vassels"
   ]
  },
  {
   "cell_type": "code",
   "execution_count": 31,
   "id": "cb5388f2",
   "metadata": {},
   "outputs": [
    {
     "data": {
      "text/plain": [
       "<AxesSubplot:xlabel='result'>"
      ]
     },
     "execution_count": 31,
     "metadata": {},
     "output_type": "execute_result"
    },
    {
     "data": {
      "image/png": "[encoded data removed]",
      "text/plain": [
       "<Figure size 640x480 with 1 Axes>"
      ]
     },
     "metadata": {},
     "output_type": "display_data"
    }
   ],
   "source": [
    "# visualise the most interesting\n",
    "data.groupby('result')['angina_exercice'].mean().plot(kind='bar')"
   ]
  },
  {
   "cell_type": "code",
   "execution_count": 32,
   "id": "3c172ca2",
   "metadata": {},
   "outputs": [
    {
     "data": {
      "text/plain": [
       "<AxesSubplot:xlabel='result'>"
      ]
     },
     "execution_count": 32,
     "metadata": {},
     "output_type": "execute_result"
    },
    {
     "data": {
      "image/png": "[encoded data removed]",
      "text/plain": [
       "<Figure size 640x480 with 1 Axes>"
      ]
     },
     "metadata": {},
     "output_type": "display_data"
    }
   ],
   "source": [
    "data.groupby('result')['major_vassels'].mean().plot(kind='bar')"
   ]
  },
  {
   "cell_type": "code",
   "execution_count": 33,
   "id": "5019c313",
   "metadata": {},
   "outputs": [
    {
     "data": {
      "text/plain": [
       "<AxesSubplot:xlabel='result'>"
      ]
     },
     "execution_count": 33,
     "metadata": {},
     "output_type": "execute_result"
    },
    {
     "data": {
      "image/png": "[encoded data removed]",
      "text/plain": [
       "<Figure size 640x480 with 1 Axes>"
      ]
     },
     "metadata": {},
     "output_type": "display_data"
    }
   ],
   "source": [
    "data.groupby('result')['st_describ'].mean().plot(kind='bar')"
   ]
  },
  {
   "cell_type": "code",
   "execution_count": 34,
   "id": "03b6999f",
   "metadata": {},
   "outputs": [
    {
     "name": "stderr",
     "output_type": "stream",
     "text": [
      "C:\\Temp\\ipykernel_2340\\3977054082.py:1: FutureWarning: Indexing with multiple keys (implicitly converted to a tuple of keys) will be deprecated, use a list instead.\n",
      "  data_copy.groupby('result')['Typical angina', 'Atypical angina', 'Non-angina pain', 'Asymptomatic'].mean().plot(kind = 'bar', xlabel='result')\n"
     ]
    },
    {
     "data": {
      "text/plain": [
       "<AxesSubplot:xlabel='result'>"
      ]
     },
     "execution_count": 34,
     "metadata": {},
     "output_type": "execute_result"
    },
    {
     "data": {
      "image/png": "[encoded data removed]",
      "text/plain": [
       "<Figure size 640x480 with 1 Axes>"
      ]
     },
     "metadata": {},
     "output_type": "display_data"
    }
   ],
   "source": [
    "data_copy.groupby('result')['Typical angina', 'Atypical angina', 'Non-angina pain', 'Asymptomatic'].mean().plot(kind = 'bar', xlabel='result')"
   ]
  },
  {
   "cell_type": "code",
   "execution_count": 35,
   "id": "8825ff5d",
   "metadata": {},
   "outputs": [],
   "source": [
    "### Comment: The halthy people have mostly typial angina, therefore people with heart diseases has mostly Atypical angina and Non-angina pain"
   ]
  },
  {
   "cell_type": "code",
   "execution_count": 36,
   "id": "4d0b9ab7",
   "metadata": {},
   "outputs": [
    {
     "data": {
      "text/plain": [
       "<matplotlib.legend.Legend at 0x1cedd731d90>"
      ]
     },
     "execution_count": 36,
     "metadata": {},
     "output_type": "execute_result"
    },
    {
     "data": {
      "image/png": "[encoded data removed]",
      "text/plain": [
       "<Figure size 1000x1000 with 1 Axes>"
      ]
     },
     "metadata": {},
     "output_type": "display_data"
    }
   ],
   "source": [
    "# What is the likehood of a heart attack relative to gender (Male, Female)?\n",
    "pd.crosstab(data.sex, data.result).plot(kind=\"bar\",figsize=(10,10),color=['green', 'red' ])\n",
    "plt.title('Heart disease depending on sex')\n",
    "plt.xlabel('sex (0 - Female, 1 - Male)')\n",
    "plt.legend([\"Don't have heart disease\", 'Have heart disease'])\n",
    "\n",
    "# Conlusion: women are more likely to have a heart disease than men"
   ]
  },
  {
   "cell_type": "code",
   "execution_count": 37,
   "id": "181dfa3a",
   "metadata": {},
   "outputs": [
    {
     "data": {
      "text/html": [
       "<div>\n",
       "<style scoped>\n",
       "    .dataframe tbody tr th:only-of-type {\n",
       "        vertical-align: middle;\n",
       "    }\n",
       "\n",
       "    .dataframe tbody tr th {\n",
       "        vertical-align: top;\n",
       "    }\n",
       "\n",
       "    .dataframe thead th {\n",
       "        text-align: right;\n",
       "    }\n",
       "</style>\n",
       "<table border=\"1\" class=\"dataframe\">\n",
       "  <thead>\n",
       "    <tr style=\"text-align: right;\">\n",
       "      <th></th>\n",
       "      <th>age</th>\n",
       "      <th>sex</th>\n",
       "      <th>chest_pain</th>\n",
       "      <th>resisting_blood_pressure</th>\n",
       "      <th>cholesterol</th>\n",
       "      <th>fasting_bood_glucose</th>\n",
       "      <th>resisting_ecg</th>\n",
       "      <th>max_heart_rate</th>\n",
       "      <th>angina_exercice</th>\n",
       "      <th>st_describ</th>\n",
       "      <th>slope</th>\n",
       "      <th>major_vassels</th>\n",
       "      <th>thallium_stress</th>\n",
       "      <th>result</th>\n",
       "    </tr>\n",
       "  </thead>\n",
       "  <tbody>\n",
       "    <tr>\n",
       "      <th>age</th>\n",
       "      <td>1.000000</td>\n",
       "      <td>-0.094962</td>\n",
       "      <td>-0.063107</td>\n",
       "      <td>0.283121</td>\n",
       "      <td>0.207216</td>\n",
       "      <td>0.119492</td>\n",
       "      <td>-0.111590</td>\n",
       "      <td>-0.395235</td>\n",
       "      <td>0.093216</td>\n",
       "      <td>0.206040</td>\n",
       "      <td>-0.164124</td>\n",
       "      <td>0.302261</td>\n",
       "      <td>0.065317</td>\n",
       "      <td>-0.221476</td>\n",
       "    </tr>\n",
       "    <tr>\n",
       "      <th>sex</th>\n",
       "      <td>-0.094962</td>\n",
       "      <td>1.000000</td>\n",
       "      <td>-0.051740</td>\n",
       "      <td>-0.057647</td>\n",
       "      <td>-0.195571</td>\n",
       "      <td>0.046022</td>\n",
       "      <td>-0.060351</td>\n",
       "      <td>-0.046439</td>\n",
       "      <td>0.143460</td>\n",
       "      <td>0.098322</td>\n",
       "      <td>-0.032990</td>\n",
       "      <td>0.113060</td>\n",
       "      <td>0.211452</td>\n",
       "      <td>-0.283609</td>\n",
       "    </tr>\n",
       "    <tr>\n",
       "      <th>chest_pain</th>\n",
       "      <td>-0.063107</td>\n",
       "      <td>-0.051740</td>\n",
       "      <td>1.000000</td>\n",
       "      <td>0.046486</td>\n",
       "      <td>-0.072682</td>\n",
       "      <td>0.096018</td>\n",
       "      <td>0.041561</td>\n",
       "      <td>0.293367</td>\n",
       "      <td>-0.392937</td>\n",
       "      <td>-0.146692</td>\n",
       "      <td>0.116854</td>\n",
       "      <td>-0.195356</td>\n",
       "      <td>-0.160370</td>\n",
       "      <td>0.432080</td>\n",
       "    </tr>\n",
       "    <tr>\n",
       "      <th>resisting_blood_pressure</th>\n",
       "      <td>0.283121</td>\n",
       "      <td>-0.057647</td>\n",
       "      <td>0.046486</td>\n",
       "      <td>1.000000</td>\n",
       "      <td>0.125256</td>\n",
       "      <td>0.178125</td>\n",
       "      <td>-0.115367</td>\n",
       "      <td>-0.048023</td>\n",
       "      <td>0.068526</td>\n",
       "      <td>0.194600</td>\n",
       "      <td>-0.122873</td>\n",
       "      <td>0.099248</td>\n",
       "      <td>0.062870</td>\n",
       "      <td>-0.146269</td>\n",
       "    </tr>\n",
       "    <tr>\n",
       "      <th>cholesterol</th>\n",
       "      <td>0.207216</td>\n",
       "      <td>-0.195571</td>\n",
       "      <td>-0.072682</td>\n",
       "      <td>0.125256</td>\n",
       "      <td>1.000000</td>\n",
       "      <td>0.011428</td>\n",
       "      <td>-0.147602</td>\n",
       "      <td>-0.005308</td>\n",
       "      <td>0.064099</td>\n",
       "      <td>0.050086</td>\n",
       "      <td>0.000417</td>\n",
       "      <td>0.086878</td>\n",
       "      <td>0.096810</td>\n",
       "      <td>-0.081437</td>\n",
       "    </tr>\n",
       "    <tr>\n",
       "      <th>fasting_bood_glucose</th>\n",
       "      <td>0.119492</td>\n",
       "      <td>0.046022</td>\n",
       "      <td>0.096018</td>\n",
       "      <td>0.178125</td>\n",
       "      <td>0.011428</td>\n",
       "      <td>1.000000</td>\n",
       "      <td>-0.083081</td>\n",
       "      <td>-0.007169</td>\n",
       "      <td>0.024729</td>\n",
       "      <td>0.004514</td>\n",
       "      <td>-0.058654</td>\n",
       "      <td>0.144935</td>\n",
       "      <td>-0.032752</td>\n",
       "      <td>-0.026826</td>\n",
       "    </tr>\n",
       "    <tr>\n",
       "      <th>resisting_ecg</th>\n",
       "      <td>-0.111590</td>\n",
       "      <td>-0.060351</td>\n",
       "      <td>0.041561</td>\n",
       "      <td>-0.115367</td>\n",
       "      <td>-0.147602</td>\n",
       "      <td>-0.083081</td>\n",
       "      <td>1.000000</td>\n",
       "      <td>0.041210</td>\n",
       "      <td>-0.068807</td>\n",
       "      <td>-0.056251</td>\n",
       "      <td>0.090402</td>\n",
       "      <td>-0.083112</td>\n",
       "      <td>-0.010473</td>\n",
       "      <td>0.134874</td>\n",
       "    </tr>\n",
       "    <tr>\n",
       "      <th>max_heart_rate</th>\n",
       "      <td>-0.395235</td>\n",
       "      <td>-0.046439</td>\n",
       "      <td>0.293367</td>\n",
       "      <td>-0.048023</td>\n",
       "      <td>-0.005308</td>\n",
       "      <td>-0.007169</td>\n",
       "      <td>0.041210</td>\n",
       "      <td>1.000000</td>\n",
       "      <td>-0.377411</td>\n",
       "      <td>-0.342201</td>\n",
       "      <td>0.384754</td>\n",
       "      <td>-0.228311</td>\n",
       "      <td>-0.094910</td>\n",
       "      <td>0.419955</td>\n",
       "    </tr>\n",
       "    <tr>\n",
       "      <th>angina_exercice</th>\n",
       "      <td>0.093216</td>\n",
       "      <td>0.143460</td>\n",
       "      <td>-0.392937</td>\n",
       "      <td>0.068526</td>\n",
       "      <td>0.064099</td>\n",
       "      <td>0.024729</td>\n",
       "      <td>-0.068807</td>\n",
       "      <td>-0.377411</td>\n",
       "      <td>1.000000</td>\n",
       "      <td>0.286766</td>\n",
       "      <td>-0.256106</td>\n",
       "      <td>0.125377</td>\n",
       "      <td>0.205826</td>\n",
       "      <td>-0.435601</td>\n",
       "    </tr>\n",
       "    <tr>\n",
       "      <th>st_describ</th>\n",
       "      <td>0.206040</td>\n",
       "      <td>0.098322</td>\n",
       "      <td>-0.146692</td>\n",
       "      <td>0.194600</td>\n",
       "      <td>0.050086</td>\n",
       "      <td>0.004514</td>\n",
       "      <td>-0.056251</td>\n",
       "      <td>-0.342201</td>\n",
       "      <td>0.286766</td>\n",
       "      <td>1.000000</td>\n",
       "      <td>-0.576314</td>\n",
       "      <td>0.236560</td>\n",
       "      <td>0.209090</td>\n",
       "      <td>-0.429146</td>\n",
       "    </tr>\n",
       "    <tr>\n",
       "      <th>slope</th>\n",
       "      <td>-0.164124</td>\n",
       "      <td>-0.032990</td>\n",
       "      <td>0.116854</td>\n",
       "      <td>-0.122873</td>\n",
       "      <td>0.000417</td>\n",
       "      <td>-0.058654</td>\n",
       "      <td>0.090402</td>\n",
       "      <td>0.384754</td>\n",
       "      <td>-0.256106</td>\n",
       "      <td>-0.576314</td>\n",
       "      <td>1.000000</td>\n",
       "      <td>-0.092236</td>\n",
       "      <td>-0.103314</td>\n",
       "      <td>0.343940</td>\n",
       "    </tr>\n",
       "    <tr>\n",
       "      <th>major_vassels</th>\n",
       "      <td>0.302261</td>\n",
       "      <td>0.113060</td>\n",
       "      <td>-0.195356</td>\n",
       "      <td>0.099248</td>\n",
       "      <td>0.086878</td>\n",
       "      <td>0.144935</td>\n",
       "      <td>-0.083112</td>\n",
       "      <td>-0.228311</td>\n",
       "      <td>0.125377</td>\n",
       "      <td>0.236560</td>\n",
       "      <td>-0.092236</td>\n",
       "      <td>1.000000</td>\n",
       "      <td>0.160085</td>\n",
       "      <td>-0.408992</td>\n",
       "    </tr>\n",
       "    <tr>\n",
       "      <th>thallium_stress</th>\n",
       "      <td>0.065317</td>\n",
       "      <td>0.211452</td>\n",
       "      <td>-0.160370</td>\n",
       "      <td>0.062870</td>\n",
       "      <td>0.096810</td>\n",
       "      <td>-0.032752</td>\n",
       "      <td>-0.010473</td>\n",
       "      <td>-0.094910</td>\n",
       "      <td>0.205826</td>\n",
       "      <td>0.209090</td>\n",
       "      <td>-0.103314</td>\n",
       "      <td>0.160085</td>\n",
       "      <td>1.000000</td>\n",
       "      <td>-0.343101</td>\n",
       "    </tr>\n",
       "    <tr>\n",
       "      <th>result</th>\n",
       "      <td>-0.221476</td>\n",
       "      <td>-0.283609</td>\n",
       "      <td>0.432080</td>\n",
       "      <td>-0.146269</td>\n",
       "      <td>-0.081437</td>\n",
       "      <td>-0.026826</td>\n",
       "      <td>0.134874</td>\n",
       "      <td>0.419955</td>\n",
       "      <td>-0.435601</td>\n",
       "      <td>-0.429146</td>\n",
       "      <td>0.343940</td>\n",
       "      <td>-0.408992</td>\n",
       "      <td>-0.343101</td>\n",
       "      <td>1.000000</td>\n",
       "    </tr>\n",
       "  </tbody>\n",
       "</table>\n",
       "</div>"
      ],
      "text/plain": [
       "                               age       sex  chest_pain  \\\n",
       "age                       1.000000 -0.094962   -0.063107   \n",
       "sex                      -0.094962  1.000000   -0.051740   \n",
       "chest_pain               -0.063107 -0.051740    1.000000   \n",
       "resisting_blood_pressure  0.283121 -0.057647    0.046486   \n",
       "cholesterol               0.207216 -0.195571   -0.072682   \n",
       "fasting_bood_glucose      0.119492  0.046022    0.096018   \n",
       "resisting_ecg            -0.111590 -0.060351    0.041561   \n",
       "max_heart_rate           -0.395235 -0.046439    0.293367   \n",
       "angina_exercice           0.093216  0.143460   -0.392937   \n",
       "st_describ                0.206040  0.098322   -0.146692   \n",
       "slope                    -0.164124 -0.032990    0.116854   \n",
       "major_vassels             0.302261  0.113060   -0.195356   \n",
       "thallium_stress           0.065317  0.211452   -0.160370   \n",
       "result                   -0.221476 -0.283609    0.432080   \n",
       "\n",
       "                          resisting_blood_pressure  cholesterol  \\\n",
       "age                                       0.283121     0.207216   \n",
       "sex                                      -0.057647    -0.195571   \n",
       "chest_pain                                0.046486    -0.072682   \n",
       "resisting_blood_pressure                  1.000000     0.125256   \n",
       "cholesterol                               0.125256     1.000000   \n",
       "fasting_bood_glucose                      0.178125     0.011428   \n",
       "resisting_ecg                            -0.115367    -0.147602   \n",
       "max_heart_rate                           -0.048023    -0.005308   \n",
       "angina_exercice                           0.068526     0.064099   \n",
       "st_describ                                0.194600     0.050086   \n",
       "slope                                    -0.122873     0.000417   \n",
       "major_vassels                             0.099248     0.086878   \n",
       "thallium_stress                           0.062870     0.096810   \n",
       "result                                   -0.146269    -0.081437   \n",
       "\n",
       "                          fasting_bood_glucose  resisting_ecg  max_heart_rate  \\\n",
       "age                                   0.119492      -0.111590       -0.395235   \n",
       "sex                                   0.046022      -0.060351       -0.046439   \n",
       "chest_pain                            0.096018       0.041561        0.293367   \n",
       "resisting_blood_pressure              0.178125      -0.115367       -0.048023   \n",
       "cholesterol                           0.011428      -0.147602       -0.005308   \n",
       "fasting_bood_glucose                  1.000000      -0.083081       -0.007169   \n",
       "resisting_ecg                        -0.083081       1.000000        0.041210   \n",
       "max_heart_rate                       -0.007169       0.041210        1.000000   \n",
       "angina_exercice                       0.024729      -0.068807       -0.377411   \n",
       "st_describ                            0.004514      -0.056251       -0.342201   \n",
       "slope                                -0.058654       0.090402        0.384754   \n",
       "major_vassels                         0.144935      -0.083112       -0.228311   \n",
       "thallium_stress                      -0.032752      -0.010473       -0.094910   \n",
       "result                               -0.026826       0.134874        0.419955   \n",
       "\n",
       "                          angina_exercice  st_describ     slope  \\\n",
       "age                              0.093216    0.206040 -0.164124   \n",
       "sex                              0.143460    0.098322 -0.032990   \n",
       "chest_pain                      -0.392937   -0.146692  0.116854   \n",
       "resisting_blood_pressure         0.068526    0.194600 -0.122873   \n",
       "cholesterol                      0.064099    0.050086  0.000417   \n",
       "fasting_bood_glucose             0.024729    0.004514 -0.058654   \n",
       "resisting_ecg                   -0.068807   -0.056251  0.090402   \n",
       "max_heart_rate                  -0.377411   -0.342201  0.384754   \n",
       "angina_exercice                  1.000000    0.286766 -0.256106   \n",
       "st_describ                       0.286766    1.000000 -0.576314   \n",
       "slope                           -0.256106   -0.576314  1.000000   \n",
       "major_vassels                    0.125377    0.236560 -0.092236   \n",
       "thallium_stress                  0.205826    0.209090 -0.103314   \n",
       "result                          -0.435601   -0.429146  0.343940   \n",
       "\n",
       "                          major_vassels  thallium_stress    result  \n",
       "age                            0.302261         0.065317 -0.221476  \n",
       "sex                            0.113060         0.211452 -0.283609  \n",
       "chest_pain                    -0.195356        -0.160370  0.432080  \n",
       "resisting_blood_pressure       0.099248         0.062870 -0.146269  \n",
       "cholesterol                    0.086878         0.096810 -0.081437  \n",
       "fasting_bood_glucose           0.144935        -0.032752 -0.026826  \n",
       "resisting_ecg                 -0.083112        -0.010473  0.134874  \n",
       "max_heart_rate                -0.228311        -0.094910  0.419955  \n",
       "angina_exercice                0.125377         0.205826 -0.435601  \n",
       "st_describ                     0.236560         0.209090 -0.429146  \n",
       "slope                         -0.092236        -0.103314  0.343940  \n",
       "major_vassels                  1.000000         0.160085 -0.408992  \n",
       "thallium_stress                0.160085         1.000000 -0.343101  \n",
       "result                        -0.408992        -0.343101  1.000000  "
      ]
     },
     "execution_count": 37,
     "metadata": {},
     "output_type": "execute_result"
    }
   ],
   "source": [
    "# What is the correlation of all the data?\n",
    "data.corr()"
   ]
  },
  {
   "cell_type": "code",
   "execution_count": 38,
   "id": "01990468",
   "metadata": {
    "scrolled": false
   },
   "outputs": [
    {
     "data": {
      "text/plain": [
       "<AxesSubplot:>"
      ]
     },
     "execution_count": 38,
     "metadata": {},
     "output_type": "execute_result"
    },
    {
     "data": {
      "image/png": "[encoded data removed]",
      "text/plain": [
       "<Figure size 1500x1000 with 2 Axes>"
      ]
     },
     "metadata": {},
     "output_type": "display_data"
    }
   ],
   "source": [
    "# visualization of data correlation\n",
    "plt.figure(figsize=(15, 10))\n",
    "sns.heatmap(data.corr(), annot=True)"
   ]
  },
  {
   "cell_type": "code",
   "execution_count": 39,
   "id": "b45e07ba",
   "metadata": {},
   "outputs": [],
   "source": [
    "### Comment: Result value mostly depends on such fators as:\n",
    "#              * sex (inversely proportional) (0 - Female, 1 - Male)\n",
    "#              * chest pain (inversely proportional)\n",
    "#              * maximum heart rate (direstly proportional)\n",
    "#              * angeina exercise (inversely proportional)\n",
    "#              * ST depression (inversely proportional)\n",
    "#              * slope (direstly proportional)\n",
    "#              * number of major vessels colored by fluoroscopy (inversely proportional)\n",
    "#              * thallium streess test results (inversely proportional)"
   ]
  },
  {
   "cell_type": "code",
   "execution_count": 40,
   "id": "2c333cfb",
   "metadata": {},
   "outputs": [
    {
     "data": {
      "text/plain": [
       "Text(0, 0.5, 'Maximum heart rate achieved (bpm)')"
      ]
     },
     "execution_count": 40,
     "metadata": {},
     "output_type": "execute_result"
    },
    {
     "data": {
      "image/png": "[encoded data removed]",
      "text/plain": [
       "<Figure size 640x480 with 1 Axes>"
      ]
     },
     "metadata": {},
     "output_type": "display_data"
    }
   ],
   "source": [
    "# What is the relationship between age and max_heart_rate?\n",
    "\n",
    "plt.scatter(x=data[data.result == 0]['age'], y=data[data.result == 0]['max_heart_rate'], color='green')\n",
    "plt.scatter(x=data[data.result == 1]['age'], y=data[data.result == 1]['max_heart_rate'], color= 'red')\n",
    "plt.title('Max_heart_rate vs. age', fontsize=15)\n",
    "plt.legend(['no-Disease', 'With disease'])\n",
    "plt.xlabel('age',fontsize=10)\n",
    "plt.ylabel('Maximum heart rate achieved (bpm)', fontsize=10)"
   ]
  },
  {
   "cell_type": "code",
   "execution_count": 41,
   "id": "ba803f9e",
   "metadata": {},
   "outputs": [],
   "source": [
    "### Comment: younger people have higher maximum heart rate and higher heart attach risk\n",
    "### * but the dataset is too small and the only one person elder then 30, so I think the error of this onclusion is too large"
   ]
  },
  {
   "cell_type": "code",
   "execution_count": 42,
   "id": "9294495c",
   "metadata": {},
   "outputs": [
    {
     "data": {
      "text/plain": [
       "<AxesSubplot:xlabel='sex', ylabel='age'>"
      ]
     },
     "execution_count": 42,
     "metadata": {},
     "output_type": "execute_result"
    },
    {
     "data": {
      "image/png": "[encoded data removed]",
      "text/plain": [
       "<Figure size 640x480 with 1 Axes>"
      ]
     },
     "metadata": {},
     "output_type": "display_data"
    }
   ],
   "source": [
    "# What is the distribution between age and gender?\n",
    "sns.boxplot( x=data[\"sex\"], y=data[\"age\"] )"
   ]
  },
  {
   "cell_type": "code",
   "execution_count": 43,
   "id": "108fa9cb",
   "metadata": {},
   "outputs": [],
   "source": [
    "### Comment: Wemen are older then men in this dataset"
   ]
  },
  {
   "cell_type": "code",
   "execution_count": 44,
   "id": "0e814460",
   "metadata": {},
   "outputs": [
    {
     "data": {
      "text/plain": [
       "<AxesSubplot:>"
      ]
     },
     "execution_count": 44,
     "metadata": {},
     "output_type": "execute_result"
    },
    {
     "data": {
      "image/png": "[encoded data removed]",
      "text/plain": [
       "<Figure size 640x480 with 2 Axes>"
      ]
     },
     "metadata": {},
     "output_type": "display_data"
    }
   ],
   "source": [
    "# What are the relationships between chest pain, angina exercise and results?\n",
    "data_dummy = pd.get_dummies(data.chest_pain)\n",
    "data_dummy.columns = ['Typical angina','Atypical angina', 'Non-angina pain', 'Asymptomatic']\n",
    "df = data_dummy.copy()\n",
    "data_dummy = pd.get_dummies(data.angina_exercice)\n",
    "data_dummy.columns = ['No_exercise', 'With_exerise']\n",
    "df = df.join(data_dummy)\n",
    "data_dummy = pd.get_dummies(data.result)\n",
    "data_dummy.columns = ['No_Disease', 'With_disease']\n",
    "df = df.join(data_dummy)\n",
    "sns.heatmap(df.corr(), annot = True)"
   ]
  },
  {
   "cell_type": "code",
   "execution_count": 45,
   "id": "fee22044",
   "metadata": {},
   "outputs": [
    {
     "data": {
      "text/html": [
       "<div>\n",
       "<style scoped>\n",
       "    .dataframe tbody tr th:only-of-type {\n",
       "        vertical-align: middle;\n",
       "    }\n",
       "\n",
       "    .dataframe tbody tr th {\n",
       "        vertical-align: top;\n",
       "    }\n",
       "\n",
       "    .dataframe thead th {\n",
       "        text-align: right;\n",
       "    }\n",
       "</style>\n",
       "<table border=\"1\" class=\"dataframe\">\n",
       "  <thead>\n",
       "    <tr style=\"text-align: right;\">\n",
       "      <th></th>\n",
       "      <th>Typical angina</th>\n",
       "      <th>Atypical angina</th>\n",
       "      <th>Non-angina pain</th>\n",
       "      <th>Asymptomatic</th>\n",
       "      <th>No_exercise</th>\n",
       "      <th>With_exerise</th>\n",
       "      <th>No_Disease</th>\n",
       "      <th>With_disease</th>\n",
       "    </tr>\n",
       "  </thead>\n",
       "  <tbody>\n",
       "    <tr>\n",
       "      <th>0</th>\n",
       "      <td>0</td>\n",
       "      <td>0</td>\n",
       "      <td>0</td>\n",
       "      <td>1</td>\n",
       "      <td>1</td>\n",
       "      <td>0</td>\n",
       "      <td>0</td>\n",
       "      <td>1</td>\n",
       "    </tr>\n",
       "    <tr>\n",
       "      <th>1</th>\n",
       "      <td>0</td>\n",
       "      <td>0</td>\n",
       "      <td>1</td>\n",
       "      <td>0</td>\n",
       "      <td>1</td>\n",
       "      <td>0</td>\n",
       "      <td>0</td>\n",
       "      <td>1</td>\n",
       "    </tr>\n",
       "    <tr>\n",
       "      <th>2</th>\n",
       "      <td>0</td>\n",
       "      <td>1</td>\n",
       "      <td>0</td>\n",
       "      <td>0</td>\n",
       "      <td>1</td>\n",
       "      <td>0</td>\n",
       "      <td>0</td>\n",
       "      <td>1</td>\n",
       "    </tr>\n",
       "    <tr>\n",
       "      <th>3</th>\n",
       "      <td>0</td>\n",
       "      <td>1</td>\n",
       "      <td>0</td>\n",
       "      <td>0</td>\n",
       "      <td>1</td>\n",
       "      <td>0</td>\n",
       "      <td>0</td>\n",
       "      <td>1</td>\n",
       "    </tr>\n",
       "    <tr>\n",
       "      <th>4</th>\n",
       "      <td>1</td>\n",
       "      <td>0</td>\n",
       "      <td>0</td>\n",
       "      <td>0</td>\n",
       "      <td>0</td>\n",
       "      <td>1</td>\n",
       "      <td>0</td>\n",
       "      <td>1</td>\n",
       "    </tr>\n",
       "    <tr>\n",
       "      <th>...</th>\n",
       "      <td>...</td>\n",
       "      <td>...</td>\n",
       "      <td>...</td>\n",
       "      <td>...</td>\n",
       "      <td>...</td>\n",
       "      <td>...</td>\n",
       "      <td>...</td>\n",
       "      <td>...</td>\n",
       "    </tr>\n",
       "    <tr>\n",
       "      <th>298</th>\n",
       "      <td>1</td>\n",
       "      <td>0</td>\n",
       "      <td>0</td>\n",
       "      <td>0</td>\n",
       "      <td>0</td>\n",
       "      <td>1</td>\n",
       "      <td>1</td>\n",
       "      <td>0</td>\n",
       "    </tr>\n",
       "    <tr>\n",
       "      <th>299</th>\n",
       "      <td>0</td>\n",
       "      <td>0</td>\n",
       "      <td>0</td>\n",
       "      <td>1</td>\n",
       "      <td>1</td>\n",
       "      <td>0</td>\n",
       "      <td>1</td>\n",
       "      <td>0</td>\n",
       "    </tr>\n",
       "    <tr>\n",
       "      <th>300</th>\n",
       "      <td>1</td>\n",
       "      <td>0</td>\n",
       "      <td>0</td>\n",
       "      <td>0</td>\n",
       "      <td>1</td>\n",
       "      <td>0</td>\n",
       "      <td>1</td>\n",
       "      <td>0</td>\n",
       "    </tr>\n",
       "    <tr>\n",
       "      <th>301</th>\n",
       "      <td>1</td>\n",
       "      <td>0</td>\n",
       "      <td>0</td>\n",
       "      <td>0</td>\n",
       "      <td>0</td>\n",
       "      <td>1</td>\n",
       "      <td>1</td>\n",
       "      <td>0</td>\n",
       "    </tr>\n",
       "    <tr>\n",
       "      <th>302</th>\n",
       "      <td>0</td>\n",
       "      <td>1</td>\n",
       "      <td>0</td>\n",
       "      <td>0</td>\n",
       "      <td>1</td>\n",
       "      <td>0</td>\n",
       "      <td>1</td>\n",
       "      <td>0</td>\n",
       "    </tr>\n",
       "  </tbody>\n",
       "</table>\n",
       "<p>302 rows × 8 columns</p>\n",
       "</div>"
      ],
      "text/plain": [
       "     Typical angina  Atypical angina  Non-angina pain  Asymptomatic  \\\n",
       "0                 0                0                0             1   \n",
       "1                 0                0                1             0   \n",
       "2                 0                1                0             0   \n",
       "3                 0                1                0             0   \n",
       "4                 1                0                0             0   \n",
       "..              ...              ...              ...           ...   \n",
       "298               1                0                0             0   \n",
       "299               0                0                0             1   \n",
       "300               1                0                0             0   \n",
       "301               1                0                0             0   \n",
       "302               0                1                0             0   \n",
       "\n",
       "     No_exercise  With_exerise  No_Disease  With_disease  \n",
       "0              1             0           0             1  \n",
       "1              1             0           0             1  \n",
       "2              1             0           0             1  \n",
       "3              1             0           0             1  \n",
       "4              0             1           0             1  \n",
       "..           ...           ...         ...           ...  \n",
       "298            0             1           1             0  \n",
       "299            1             0           1             0  \n",
       "300            1             0           1             0  \n",
       "301            0             1           1             0  \n",
       "302            1             0           1             0  \n",
       "\n",
       "[302 rows x 8 columns]"
      ]
     },
     "execution_count": 45,
     "metadata": {},
     "output_type": "execute_result"
    }
   ],
   "source": [
    "df"
   ]
  },
  {
   "cell_type": "markdown",
   "id": "0c7b1124",
   "metadata": {},
   "source": [
    "# Machine Learning part"
   ]
  },
  {
   "cell_type": "code",
   "execution_count": 46,
   "id": "b2734e79",
   "metadata": {},
   "outputs": [],
   "source": [
    "# Import necessary libraries\n",
    "from sklearn.model_selection import train_test_split\n",
    "# from activations import sigmoid, sigmoid_prime, relu, relu_prime\n",
    "from sklearn.linear_model import LogisticRegression\n",
    "from sklearn import linear_model\n",
    "from sklearn.metrics import accuracy_score"
   ]
  },
  {
   "cell_type": "code",
   "execution_count": 47,
   "id": "f8d6e0b6",
   "metadata": {},
   "outputs": [],
   "source": [
    "# activation functions and their primes, that would be used later\n",
    "def sigmoid(Z):\n",
    "    A = 1.0/(1.0 + np.exp(-Z))\n",
    "    cache = Z\n",
    "    return A, cache\n",
    "\n",
    "def sigmoid_prime(dA, cache):\n",
    "    Z = cache\n",
    "    s = 1.0/(1.0 + np.exp(-Z))\n",
    "    return dA * s*(1-s) \n",
    "\n",
    "def relu(Z):\n",
    "    cache = Z\n",
    "    A = np.maximum(0, Z)\n",
    "    return A, cache\n",
    "\n",
    "def relu_prime(dA, cache):\n",
    "    Z = cache\n",
    "    dZ = np.array(dA, copy=True)\n",
    "    dZ[Z<=0] = 0\n",
    "    return dZ\n"
   ]
  },
  {
   "cell_type": "code",
   "execution_count": 48,
   "id": "9fbde3aa",
   "metadata": {},
   "outputs": [
    {
     "data": {
      "text/plain": [
       "array([[63.,  1.,  3., ...,  0.,  0.,  1.],\n",
       "       [37.,  1.,  2., ...,  0.,  0.,  2.],\n",
       "       [41.,  0.,  1., ...,  2.,  0.,  2.],\n",
       "       ...,\n",
       "       [68.,  1.,  0., ...,  1.,  2.,  3.],\n",
       "       [57.,  1.,  0., ...,  1.,  1.,  3.],\n",
       "       [57.,  0.,  1., ...,  1.,  1.,  2.]])"
      ]
     },
     "execution_count": 48,
     "metadata": {},
     "output_type": "execute_result"
    }
   ],
   "source": [
    "# split the dataset data into 2 groups: input data (X) and output data (Y)\n",
    "X = data.drop('result', axis=1).values\n",
    "Y = data['result'].values\n",
    "X"
   ]
  },
  {
   "cell_type": "code",
   "execution_count": 49,
   "id": "911e4a0d",
   "metadata": {},
   "outputs": [
    {
     "data": {
      "text/plain": [
       "array([1, 1, 1, 1, 1, 1, 1, 1, 1, 1, 1, 1, 1, 1, 1, 1, 1, 1, 1, 1, 1, 1,\n",
       "       1, 1, 1, 1, 1, 1, 1, 1, 1, 1, 1, 1, 1, 1, 1, 1, 1, 1, 1, 1, 1, 1,\n",
       "       1, 1, 1, 1, 1, 1, 1, 1, 1, 1, 1, 1, 1, 1, 1, 1, 1, 1, 1, 1, 1, 1,\n",
       "       1, 1, 1, 1, 1, 1, 1, 1, 1, 1, 1, 1, 1, 1, 1, 1, 1, 1, 1, 1, 1, 1,\n",
       "       1, 1, 1, 1, 1, 1, 1, 1, 1, 1, 1, 1, 1, 1, 1, 1, 1, 1, 1, 1, 1, 1,\n",
       "       1, 1, 1, 1, 1, 1, 1, 1, 1, 1, 1, 1, 1, 1, 1, 1, 1, 1, 1, 1, 1, 1,\n",
       "       1, 1, 1, 1, 1, 1, 1, 1, 1, 1, 1, 1, 1, 1, 1, 1, 1, 1, 1, 1, 1, 1,\n",
       "       1, 1, 1, 1, 1, 1, 1, 1, 1, 1, 0, 0, 0, 0, 0, 0, 0, 0, 0, 0, 0, 0,\n",
       "       0, 0, 0, 0, 0, 0, 0, 0, 0, 0, 0, 0, 0, 0, 0, 0, 0, 0, 0, 0, 0, 0,\n",
       "       0, 0, 0, 0, 0, 0, 0, 0, 0, 0, 0, 0, 0, 0, 0, 0, 0, 0, 0, 0, 0, 0,\n",
       "       0, 0, 0, 0, 0, 0, 0, 0, 0, 0, 0, 0, 0, 0, 0, 0, 0, 0, 0, 0, 0, 0,\n",
       "       0, 0, 0, 0, 0, 0, 0, 0, 0, 0, 0, 0, 0, 0, 0, 0, 0, 0, 0, 0, 0, 0,\n",
       "       0, 0, 0, 0, 0, 0, 0, 0, 0, 0, 0, 0, 0, 0, 0, 0, 0, 0, 0, 0, 0, 0,\n",
       "       0, 0, 0, 0, 0, 0, 0, 0, 0, 0, 0, 0, 0, 0, 0, 0], dtype=int64)"
      ]
     },
     "execution_count": 49,
     "metadata": {},
     "output_type": "execute_result"
    }
   ],
   "source": [
    "# Check\n",
    "Y"
   ]
  },
  {
   "cell_type": "code",
   "execution_count": 50,
   "id": "e602e07d",
   "metadata": {},
   "outputs": [],
   "source": [
    "# split the data into 4 groups:\n",
    "# 1) X_train - data, that would be used for the machine\n",
    "# 2) X_test - data for testing the alulated weights\n",
    "# 3) Y_train - data against which results will be compared in the learning process\n",
    "# 4) Y_test - data against which results will be compared in the testing process\n",
    "X_train, X_test, Y_train, Y_test = train_test_split(X, Y, test_size=0.2, stratify=Y, shuffle=True)"
   ]
  },
  {
   "cell_type": "code",
   "execution_count": 51,
   "id": "27281f6e",
   "metadata": {},
   "outputs": [
    {
     "data": {
      "text/plain": [
       "array([[68.,  0.,  2., ...,  1.,  0.,  2.],\n",
       "       [39.,  0.,  2., ...,  2.,  0.,  2.],\n",
       "       [69.,  1.,  3., ...,  1.,  1.,  2.],\n",
       "       ...,\n",
       "       [63.,  0.,  0., ...,  1.,  2.,  2.],\n",
       "       [64.,  0.,  2., ...,  2.,  0.,  3.],\n",
       "       [37.,  0.,  2., ...,  2.,  0.,  2.]])"
      ]
     },
     "execution_count": 51,
     "metadata": {},
     "output_type": "execute_result"
    }
   ],
   "source": [
    "X_train"
   ]
  },
  {
   "cell_type": "code",
   "execution_count": 52,
   "id": "fbea92f6",
   "metadata": {},
   "outputs": [
    {
     "data": {
      "text/plain": [
       "array([1, 1, 1, 1, 0, 1, 0, 0, 0, 1, 1, 1, 1, 1, 1, 1, 1, 1, 0, 1, 0, 0,\n",
       "       1, 1, 1, 1, 1, 0, 0, 0, 1, 0, 0, 0, 0, 1, 0, 1, 1, 0, 1, 0, 0, 1,\n",
       "       0, 0, 0, 1, 0, 1, 1, 0, 1, 1, 1, 1, 1, 0, 0, 0, 1, 0, 1, 0, 1, 1,\n",
       "       0, 0, 1, 1, 0, 0, 1, 1, 0, 0, 0, 1, 1, 0, 0, 0, 0, 0, 1, 1, 1, 1,\n",
       "       1, 1, 1, 1, 0, 1, 0, 0, 1, 1, 1, 1, 1, 1, 0, 1, 0, 1, 0, 1, 0, 1,\n",
       "       1, 0, 0, 0, 1, 1, 0, 1, 0, 1, 0, 1, 0, 0, 0, 1, 1, 1, 0, 1, 0, 1,\n",
       "       0, 0, 1, 1, 0, 1, 1, 0, 0, 0, 1, 1, 1, 1, 1, 1, 0, 0, 1, 0, 1, 0,\n",
       "       1, 1, 0, 0, 0, 1, 1, 0, 0, 0, 1, 1, 1, 0, 0, 1, 1, 1, 0, 1, 1, 0,\n",
       "       1, 1, 1, 0, 1, 1, 1, 1, 0, 0, 1, 0, 1, 1, 0, 1, 1, 1, 1, 1, 0, 1,\n",
       "       1, 0, 1, 1, 1, 1, 0, 0, 0, 0, 1, 0, 1, 1, 0, 0, 0, 0, 1, 1, 0, 0,\n",
       "       1, 0, 1, 0, 0, 0, 1, 0, 0, 0, 0, 0, 1, 0, 1, 0, 0, 0, 0, 1, 1],\n",
       "      dtype=int64)"
      ]
     },
     "execution_count": 52,
     "metadata": {},
     "output_type": "execute_result"
    }
   ],
   "source": [
    "Y_train"
   ]
  },
  {
   "cell_type": "code",
   "execution_count": 53,
   "id": "b06b4404",
   "metadata": {},
   "outputs": [],
   "source": [
    "### Comment: next 8 lines represent data shape verifiation and reshaping"
   ]
  },
  {
   "cell_type": "code",
   "execution_count": 54,
   "id": "a37ac1b0",
   "metadata": {},
   "outputs": [
    {
     "data": {
      "text/plain": [
       "(241, 13)"
      ]
     },
     "execution_count": 54,
     "metadata": {},
     "output_type": "execute_result"
    }
   ],
   "source": [
    "X_train.shape"
   ]
  },
  {
   "cell_type": "code",
   "execution_count": 55,
   "id": "cff52b43",
   "metadata": {},
   "outputs": [
    {
     "data": {
      "text/plain": [
       "(241,)"
      ]
     },
     "execution_count": 55,
     "metadata": {},
     "output_type": "execute_result"
    }
   ],
   "source": [
    "Y_train.shape"
   ]
  },
  {
   "cell_type": "code",
   "execution_count": 56,
   "id": "f385268b",
   "metadata": {},
   "outputs": [
    {
     "data": {
      "text/plain": [
       "(1, 241)"
      ]
     },
     "execution_count": 56,
     "metadata": {},
     "output_type": "execute_result"
    }
   ],
   "source": [
    "Y_train = Y_train.reshape(1, Y_train.shape[0])\n",
    "Y_train.shape"
   ]
  },
  {
   "cell_type": "code",
   "execution_count": 57,
   "id": "c061562b",
   "metadata": {},
   "outputs": [
    {
     "data": {
      "text/plain": [
       "(61, 13)"
      ]
     },
     "execution_count": 57,
     "metadata": {},
     "output_type": "execute_result"
    }
   ],
   "source": [
    "X_test.shape"
   ]
  },
  {
   "cell_type": "code",
   "execution_count": 58,
   "id": "4b6985dd",
   "metadata": {},
   "outputs": [
    {
     "data": {
      "text/plain": [
       "(61,)"
      ]
     },
     "execution_count": 58,
     "metadata": {},
     "output_type": "execute_result"
    }
   ],
   "source": [
    "Y_test.shape"
   ]
  },
  {
   "cell_type": "code",
   "execution_count": 59,
   "id": "4a749e12",
   "metadata": {},
   "outputs": [
    {
     "data": {
      "text/plain": [
       "(1, 61)"
      ]
     },
     "execution_count": 59,
     "metadata": {},
     "output_type": "execute_result"
    }
   ],
   "source": [
    "Y_test = Y_test.reshape(1, Y_test.shape[0])\n",
    "Y_test.shape"
   ]
  },
  {
   "cell_type": "code",
   "execution_count": 60,
   "id": "ca77d66b",
   "metadata": {},
   "outputs": [
    {
     "data": {
      "text/plain": [
       "(13, 241)"
      ]
     },
     "execution_count": 60,
     "metadata": {},
     "output_type": "execute_result"
    }
   ],
   "source": [
    "X_train = X_train.T\n",
    "X_train.shape"
   ]
  },
  {
   "cell_type": "code",
   "execution_count": 61,
   "id": "2ac1ae89",
   "metadata": {},
   "outputs": [
    {
     "data": {
      "text/plain": [
       "(13, 61)"
      ]
     },
     "execution_count": 61,
     "metadata": {},
     "output_type": "execute_result"
    }
   ],
   "source": [
    "X_test = X_test.T\n",
    "X_test.shape"
   ]
  },
  {
   "cell_type": "code",
   "execution_count": 62,
   "id": "8d9eab87",
   "metadata": {},
   "outputs": [
    {
     "data": {
      "text/plain": [
       "array([[ 0.4262523 , -0.01231507,  0.2990111 , ...,  0.18896199,\n",
       "         0.14802299, -0.07247219],\n",
       "       [-0.61035576, -0.57992794, -0.60036219, ..., -0.58022224,\n",
       "        -0.56057959, -0.58510633],\n",
       "       [-0.57986729, -0.55081959, -0.57391003, ..., -0.58022224,\n",
       "        -0.53843576, -0.55739637],\n",
       "       ...,\n",
       "       [-0.59511153, -0.55081959, -0.60036219, ..., -0.56801297,\n",
       "        -0.53843576, -0.55739637],\n",
       "       [-0.61035576, -0.57992794, -0.60036219, ..., -0.55580369,\n",
       "        -0.56057959, -0.58510633],\n",
       "       [-0.57986729, -0.55081959, -0.58713611, ..., -0.55580369,\n",
       "        -0.52736384, -0.55739637]])"
      ]
     },
     "execution_count": 62,
     "metadata": {},
     "output_type": "execute_result"
    }
   ],
   "source": [
    "# Data values standartisation - the process of rescaling the attributes so that they have mean as 0 and variance as 1\n",
    "def standartization(X):\n",
    "    X = (X - np.mean(X, axis=0))/np.std(X, axis=0)\n",
    "    return X\n",
    "\n",
    "XX_train = standartization(X_train)\n",
    "XX_train"
   ]
  },
  {
   "cell_type": "code",
   "execution_count": 63,
   "id": "878164d5",
   "metadata": {},
   "outputs": [
    {
     "data": {
      "text/plain": [
       "array([[ 0.4262523 , -0.01231507,  0.2990111 , ...,  0.18896199,\n",
       "         0.14802299, -0.07247219],\n",
       "       [-0.61035576, -0.57992794, -0.60036219, ..., -0.58022224,\n",
       "        -0.56057959, -0.58510633],\n",
       "       [-0.57986729, -0.55081959, -0.57391003, ..., -0.58022224,\n",
       "        -0.53843576, -0.55739637],\n",
       "       ...,\n",
       "       [-0.59511153, -0.55081959, -0.60036219, ..., -0.56801297,\n",
       "        -0.53843576, -0.55739637],\n",
       "       [-0.61035576, -0.57992794, -0.60036219, ..., -0.55580369,\n",
       "        -0.56057959, -0.58510633],\n",
       "       [-0.57986729, -0.55081959, -0.58713611, ..., -0.55580369,\n",
       "        -0.52736384, -0.55739637]])"
      ]
     },
     "execution_count": 63,
     "metadata": {},
     "output_type": "execute_result"
    }
   ],
   "source": [
    "X_train = standartization(X_train)\n",
    "X_test = standartization(X_test)\n",
    "X_train"
   ]
  },
  {
   "cell_type": "code",
   "execution_count": 64,
   "id": "e73a33a0",
   "metadata": {},
   "outputs": [
    {
     "data": {
      "text/plain": [
       "array([[1, 1, 1, 1, 0, 1, 0, 0, 0, 1, 1, 1, 1, 1, 1, 1, 1, 1, 0, 1, 0, 0,\n",
       "        1, 1, 1, 1, 1, 0, 0, 0, 1, 0, 0, 0, 0, 1, 0, 1, 1, 0, 1, 0, 0, 1,\n",
       "        0, 0, 0, 1, 0, 1, 1, 0, 1, 1, 1, 1, 1, 0, 0, 0, 1, 0, 1, 0, 1, 1,\n",
       "        0, 0, 1, 1, 0, 0, 1, 1, 0, 0, 0, 1, 1, 0, 0, 0, 0, 0, 1, 1, 1, 1,\n",
       "        1, 1, 1, 1, 0, 1, 0, 0, 1, 1, 1, 1, 1, 1, 0, 1, 0, 1, 0, 1, 0, 1,\n",
       "        1, 0, 0, 0, 1, 1, 0, 1, 0, 1, 0, 1, 0, 0, 0, 1, 1, 1, 0, 1, 0, 1,\n",
       "        0, 0, 1, 1, 0, 1, 1, 0, 0, 0, 1, 1, 1, 1, 1, 1, 0, 0, 1, 0, 1, 0,\n",
       "        1, 1, 0, 0, 0, 1, 1, 0, 0, 0, 1, 1, 1, 0, 0, 1, 1, 1, 0, 1, 1, 0,\n",
       "        1, 1, 1, 0, 1, 1, 1, 1, 0, 0, 1, 0, 1, 1, 0, 1, 1, 1, 1, 1, 0, 1,\n",
       "        1, 0, 1, 1, 1, 1, 0, 0, 0, 0, 1, 0, 1, 1, 0, 0, 0, 0, 1, 1, 0, 0,\n",
       "        1, 0, 1, 0, 0, 0, 1, 0, 0, 0, 0, 0, 1, 0, 1, 0, 0, 0, 0, 1, 1]],\n",
       "      dtype=int64)"
      ]
     },
     "execution_count": 64,
     "metadata": {},
     "output_type": "execute_result"
    }
   ],
   "source": [
    "Y_train"
   ]
  },
  {
   "cell_type": "code",
   "execution_count": 65,
   "id": "5892041e",
   "metadata": {},
   "outputs": [],
   "source": [
    "# the parameters random initialisation(W) and zero padding (b)\n",
    "def params_initialisanion(layers):\n",
    "    params = {}\n",
    "    \n",
    "    for l in range(1, len(layers)):\n",
    "        params['W' + str(l)] = np.random.randn(layers[l], layers[l-1]) * 0.01\n",
    "        params['b' + str(l)] = np.zeros((layers[l], 1))\n",
    "    \n",
    "    return params"
   ]
  },
  {
   "cell_type": "code",
   "execution_count": 66,
   "id": "fdcf23b9",
   "metadata": {},
   "outputs": [
    {
     "data": {
      "text/plain": [
       "(4, 3)"
      ]
     },
     "execution_count": 66,
     "metadata": {},
     "output_type": "execute_result"
    }
   ],
   "source": [
    "# Check the method\n",
    "p = params_initialisanion([2, 3, 4])\n",
    "p['W2'].shape"
   ]
  },
  {
   "cell_type": "code",
   "execution_count": 67,
   "id": "3fefca3b",
   "metadata": {},
   "outputs": [
    {
     "data": {
      "text/plain": [
       "(5, 13)"
      ]
     },
     "execution_count": 67,
     "metadata": {},
     "output_type": "execute_result"
    }
   ],
   "source": [
    "# model's layers\n",
    "layers = [X_train.shape[0], 5, 3, 1]\n",
    "\n",
    "# model parameters initialization\n",
    "params = params_initialisanion(layers)\n",
    "params['W1'].shape"
   ]
  },
  {
   "cell_type": "code",
   "execution_count": 68,
   "id": "d3a0ee91",
   "metadata": {},
   "outputs": [
    {
     "data": {
      "text/plain": [
       "(5, 1)"
      ]
     },
     "execution_count": 68,
     "metadata": {},
     "output_type": "execute_result"
    }
   ],
   "source": [
    "params['b1'].shape"
   ]
  },
  {
   "cell_type": "code",
   "execution_count": 69,
   "id": "be220328",
   "metadata": {},
   "outputs": [
    {
     "data": {
      "text/plain": [
       "dict_keys(['W1', 'b1', 'W2', 'b2', 'W3', 'b3'])"
      ]
     },
     "execution_count": 69,
     "metadata": {},
     "output_type": "execute_result"
    }
   ],
   "source": [
    "params.keys()"
   ]
  },
  {
   "cell_type": "code",
   "execution_count": 70,
   "id": "062e067b",
   "metadata": {},
   "outputs": [
    {
     "data": {
      "text/plain": [
       "dict_values([array([[-0.00126393,  0.00105899, -0.00502387,  0.01204501,  0.00136603,\n",
       "        -0.01631097,  0.00596978, -0.0040843 , -0.00826007, -0.00566058,\n",
       "         0.0189002 ,  0.00513713, -0.01954545],\n",
       "       [ 0.00327074,  0.00173466,  0.01761807, -0.00069212, -0.0063231 ,\n",
       "        -0.00702217, -0.00776927, -0.00830593,  0.00558113,  0.01734104,\n",
       "        -0.005535  , -0.00630211, -0.00067761],\n",
       "       [-0.0156119 , -0.01245366, -0.01265688,  0.0160553 , -0.00756408,\n",
       "         0.01049284, -0.01024544, -0.00105511,  0.00965226,  0.01428345,\n",
       "        -0.00014402, -0.00109938,  0.00878628],\n",
       "       [ 0.00112276,  0.00353166,  0.01105727, -0.00132096,  0.00571233,\n",
       "         0.01575922, -0.00285222, -0.00676197, -0.00061062, -0.00366233,\n",
       "         0.01177954,  0.01235523, -0.01665307],\n",
       "       [ 0.00714363,  0.0064165 , -0.00327418,  0.01092397, -0.00343552,\n",
       "        -0.00200888,  0.0035487 , -0.00661494,  0.0032251 ,  0.00595909,\n",
       "         0.00151809,  0.01764173,  0.01591037]]), array([[0.],\n",
       "       [0.],\n",
       "       [0.],\n",
       "       [0.],\n",
       "       [0.]]), array([[ 0.01502564,  0.01140907, -0.00333784,  0.00201112, -0.01600018],\n",
       "       [-0.00440904,  0.00146791,  0.01115359, -0.0283794 , -0.01114059],\n",
       "       [-0.0158855 , -0.01147001, -0.00539624,  0.0080725 , -0.0131324 ]]), array([[0.],\n",
       "       [0.],\n",
       "       [0.]]), array([[-0.00934387, -0.00819245,  0.00323076]]), array([[0.]])])"
      ]
     },
     "execution_count": 70,
     "metadata": {},
     "output_type": "execute_result"
    }
   ],
   "source": [
    "params.values()"
   ]
  },
  {
   "attachments": {
    "image.png": {
     "image/png": "[encoded data removed]"
    }
   },
   "cell_type": "markdown",
   "id": "5c354d34",
   "metadata": {},
   "source": [
    "## Forward\n",
    "###### The movement of data from the input layer to the next subsequent layers computing the neurons\n",
    "![image.png](attachment:image.png)"
   ]
  },
  {
   "cell_type": "code",
   "execution_count": 71,
   "id": "88a9254c",
   "metadata": {},
   "outputs": [],
   "source": [
    "# The merhod which computes the sum of linear combination of previous layer outputs, current layer weights and biases that after \n",
    "# are activated by sigmoid activation function\n",
    "def forward(A_prev, W, b, activation='sigmoid'):\n",
    "    \n",
    "    # inputs: A_prev - previous layer outputs\n",
    "    #         W - current layer weights\n",
    "    #         b - current layer bias\n",
    "    # outputs: A - current layer outputs\n",
    "    #          cache - tuple with such info as: A_prev, W, b, Z\n",
    "    \n",
    "    Z = np.dot(W, A_prev) + b\n",
    "#     print('Z.shape =', Z.shape)\n",
    "#     print('\\nZ\\n', Z)\n",
    "#     print('A_prev.shape =', A_prev.shape)\n",
    "#     print('W.shape =', W.shape)\n",
    "#     print('W\\n', W)\n",
    "#     print('b.shape =', b.shape)\n",
    "#     print('b\\n', b)\n",
    "#     print('\\nSigm\\n', sigmoid(Z))\n",
    "    \n",
    "    if activation == 'relu':\n",
    "        A, Z = relu(Z)  \n",
    "    else:\n",
    "        A, Z = sigmoid(Z)\n",
    "    cache = (A_prev, W, b, Z)\n",
    "    return A, cache"
   ]
  },
  {
   "cell_type": "code",
   "execution_count": 72,
   "id": "648d5f85",
   "metadata": {},
   "outputs": [],
   "source": [
    "# method that uses previous method(forward) for all of the model\n",
    "def model_forward(X, params):\n",
    "    \n",
    "    # inputs: X - input of the model\n",
    "    #         params - parameters (W, b), that were previously initialised\n",
    "    # outputs: Y_hat - the model's output? that would be compared with the Y_train later\n",
    "    #          caches - list with off model's caches \n",
    "    \n",
    "    A_prev = X.copy()\n",
    "#     print(A.shape)\n",
    "    L = len(params) // 2\n",
    "    caches = []\n",
    "    \n",
    "    for l in range(1, L):\n",
    "        A, cache = forward(A_prev, params['W'+str(l)], params['b'+str(l)], 'sigmoid')\n",
    "        A_prev = A.copy()\n",
    "        caches.append(cache)\n",
    "    \n",
    "#     print(A)\n",
    "    Y_hat, cache = forward(A_prev, params['W'+str(L)], params['b'+str(L)], 'sigmoid')\n",
    "    caches.append(cache)\n",
    "    return Y_hat, caches"
   ]
  },
  {
   "cell_type": "code",
   "execution_count": 73,
   "id": "5af34a8f",
   "metadata": {
    "scrolled": false
   },
   "outputs": [],
   "source": [
    "Y_hat, caches = model_forward(X_train, params)"
   ]
  },
  {
   "cell_type": "code",
   "execution_count": 74,
   "id": "0fdd7280",
   "metadata": {},
   "outputs": [
    {
     "data": {
      "text/plain": [
       "array([[0.49821324, 0.49821322, 0.49821323, 0.49821322, 0.49821325,\n",
       "        0.49821324, 0.49821324, 0.49821319, 0.49821324, 0.49821323,\n",
       "        0.49821326, 0.49821321, 0.49821319, 0.49821325, 0.49821321,\n",
       "        0.49821324, 0.49821323, 0.49821324, 0.49821323, 0.49821324,\n",
       "        0.49821325, 0.49821328, 0.49821323, 0.49821323, 0.49821323,\n",
       "        0.49821326, 0.49821322, 0.49821323, 0.49821322, 0.49821323,\n",
       "        0.49821322, 0.49821326, 0.49821322, 0.49821326, 0.49821324,\n",
       "        0.49821322, 0.49821324, 0.49821324, 0.49821324, 0.49821327,\n",
       "        0.49821324, 0.49821322, 0.49821325, 0.49821324, 0.49821324,\n",
       "        0.49821323, 0.49821328, 0.49821321, 0.49821321, 0.49821323,\n",
       "        0.49821322, 0.49821328, 0.49821322, 0.49821321, 0.49821321,\n",
       "        0.49821325, 0.49821324, 0.49821326, 0.49821327, 0.49821325,\n",
       "        0.49821323, 0.49821323, 0.49821319, 0.49821327, 0.49821322,\n",
       "        0.49821324, 0.49821322, 0.49821323, 0.49821324, 0.49821322,\n",
       "        0.49821325, 0.49821321, 0.49821325, 0.49821323, 0.49821325,\n",
       "        0.49821327, 0.49821327, 0.49821322, 0.49821323, 0.49821321,\n",
       "        0.49821324, 0.49821322, 0.49821321, 0.49821323, 0.49821326,\n",
       "        0.49821328, 0.49821324, 0.49821321, 0.49821323, 0.49821323,\n",
       "        0.49821322, 0.49821322, 0.49821326, 0.49821326, 0.49821324,\n",
       "        0.49821321, 0.49821323, 0.49821323, 0.49821323, 0.49821323,\n",
       "        0.49821321, 0.49821331, 0.49821326, 0.49821323, 0.49821324,\n",
       "        0.49821325, 0.49821322, 0.49821326, 0.49821328, 0.49821324,\n",
       "        0.4982132 , 0.49821324, 0.49821326, 0.49821321, 0.49821323,\n",
       "        0.49821321, 0.49821324, 0.49821322, 0.49821326, 0.49821321,\n",
       "        0.49821322, 0.49821323, 0.49821324, 0.49821326, 0.49821324,\n",
       "        0.49821327, 0.49821324, 0.49821324, 0.49821326, 0.49821322,\n",
       "        0.49821322, 0.49821322, 0.49821325, 0.49821321, 0.49821326,\n",
       "        0.49821326, 0.49821324, 0.49821323, 0.49821324, 0.49821324,\n",
       "        0.49821323, 0.49821323, 0.49821323, 0.49821323, 0.49821322,\n",
       "        0.49821327, 0.49821322, 0.49821322, 0.49821322, 0.49821325,\n",
       "        0.49821323, 0.49821328, 0.49821321, 0.49821325, 0.49821326,\n",
       "        0.49821325, 0.49821325, 0.49821323, 0.49821323, 0.49821325,\n",
       "        0.49821326, 0.49821322, 0.49821324, 0.49821323, 0.49821325,\n",
       "        0.49821323, 0.49821325, 0.49821323, 0.49821323, 0.49821323,\n",
       "        0.49821325, 0.49821323, 0.4982132 , 0.49821321, 0.49821327,\n",
       "        0.49821325, 0.49821324, 0.49821324, 0.49821322, 0.49821323,\n",
       "        0.49821321, 0.49821322, 0.49821326, 0.49821328, 0.49821325,\n",
       "        0.4982132 , 0.49821324, 0.49821325, 0.49821325, 0.49821325,\n",
       "        0.49821322, 0.4982132 , 0.49821323, 0.49821321, 0.49821323,\n",
       "        0.49821321, 0.49821323, 0.49821322, 0.49821323, 0.49821327,\n",
       "        0.49821324, 0.49821325, 0.49821325, 0.4982132 , 0.49821324,\n",
       "        0.49821328, 0.49821324, 0.49821325, 0.49821323, 0.49821326,\n",
       "        0.49821324, 0.49821324, 0.49821324, 0.49821323, 0.49821323,\n",
       "        0.49821326, 0.49821319, 0.49821317, 0.49821322, 0.49821324,\n",
       "        0.4982132 , 0.49821319, 0.49821321, 0.49821321, 0.49821323,\n",
       "        0.49821324, 0.49821322, 0.49821322, 0.49821324, 0.4982132 ,\n",
       "        0.49821324, 0.49821325, 0.49821327, 0.49821324, 0.49821322,\n",
       "        0.49821324, 0.49821328, 0.49821324, 0.49821325, 0.49821326,\n",
       "        0.49821322]])"
      ]
     },
     "execution_count": 74,
     "metadata": {},
     "output_type": "execute_result"
    }
   ],
   "source": [
    "Y_hat"
   ]
  },
  {
   "cell_type": "markdown",
   "id": "c92ebc0a",
   "metadata": {},
   "source": [
    "## Cost computation"
   ]
  },
  {
   "cell_type": "code",
   "execution_count": 75,
   "id": "39c1d628",
   "metadata": {},
   "outputs": [
    {
     "data": {
      "text/plain": [
       "(1, 241)"
      ]
     },
     "execution_count": 75,
     "metadata": {},
     "output_type": "execute_result"
    }
   ],
   "source": [
    "Y_hat.shape"
   ]
  },
  {
   "cell_type": "code",
   "execution_count": 76,
   "id": "6bb0bb8f",
   "metadata": {},
   "outputs": [],
   "source": [
    "# method, which represent the average of the loss functions of the entire training set\n",
    "def cost(Y_hat, Y_train):\n",
    "    \n",
    "    cost =  (-1/Y_train.shape[1])*np.sum(np.multiply(Y_train, np.log(Y_hat)) + np.multiply((1 - Y_train), np.log(1-Y_hat)))\n",
    "    \n",
    "    return cost"
   ]
  },
  {
   "cell_type": "code",
   "execution_count": 77,
   "id": "8f39c66d",
   "metadata": {},
   "outputs": [
    {
     "data": {
      "text/plain": [
       "0.6934649602177015"
      ]
     },
     "execution_count": 77,
     "metadata": {},
     "output_type": "execute_result"
    }
   ],
   "source": [
    "# check\n",
    "cost(Y_hat, Y_train)"
   ]
  },
  {
   "cell_type": "code",
   "execution_count": 78,
   "id": "0f21d189",
   "metadata": {},
   "outputs": [
    {
     "data": {
      "text/plain": [
       "array([[0.49821324, 0.49821322, 0.49821323, 0.49821322, 0.49821325,\n",
       "        0.49821324, 0.49821324, 0.49821319, 0.49821324, 0.49821323,\n",
       "        0.49821326, 0.49821321, 0.49821319, 0.49821325, 0.49821321,\n",
       "        0.49821324, 0.49821323, 0.49821324, 0.49821323, 0.49821324,\n",
       "        0.49821325, 0.49821328, 0.49821323, 0.49821323, 0.49821323,\n",
       "        0.49821326, 0.49821322, 0.49821323, 0.49821322, 0.49821323,\n",
       "        0.49821322, 0.49821326, 0.49821322, 0.49821326, 0.49821324,\n",
       "        0.49821322, 0.49821324, 0.49821324, 0.49821324, 0.49821327,\n",
       "        0.49821324, 0.49821322, 0.49821325, 0.49821324, 0.49821324,\n",
       "        0.49821323, 0.49821328, 0.49821321, 0.49821321, 0.49821323,\n",
       "        0.49821322, 0.49821328, 0.49821322, 0.49821321, 0.49821321,\n",
       "        0.49821325, 0.49821324, 0.49821326, 0.49821327, 0.49821325,\n",
       "        0.49821323, 0.49821323, 0.49821319, 0.49821327, 0.49821322,\n",
       "        0.49821324, 0.49821322, 0.49821323, 0.49821324, 0.49821322,\n",
       "        0.49821325, 0.49821321, 0.49821325, 0.49821323, 0.49821325,\n",
       "        0.49821327, 0.49821327, 0.49821322, 0.49821323, 0.49821321,\n",
       "        0.49821324, 0.49821322, 0.49821321, 0.49821323, 0.49821326,\n",
       "        0.49821328, 0.49821324, 0.49821321, 0.49821323, 0.49821323,\n",
       "        0.49821322, 0.49821322, 0.49821326, 0.49821326, 0.49821324,\n",
       "        0.49821321, 0.49821323, 0.49821323, 0.49821323, 0.49821323,\n",
       "        0.49821321, 0.49821331, 0.49821326, 0.49821323, 0.49821324,\n",
       "        0.49821325, 0.49821322, 0.49821326, 0.49821328, 0.49821324,\n",
       "        0.4982132 , 0.49821324, 0.49821326, 0.49821321, 0.49821323,\n",
       "        0.49821321, 0.49821324, 0.49821322, 0.49821326, 0.49821321,\n",
       "        0.49821322, 0.49821323, 0.49821324, 0.49821326, 0.49821324,\n",
       "        0.49821327, 0.49821324, 0.49821324, 0.49821326, 0.49821322,\n",
       "        0.49821322, 0.49821322, 0.49821325, 0.49821321, 0.49821326,\n",
       "        0.49821326, 0.49821324, 0.49821323, 0.49821324, 0.49821324,\n",
       "        0.49821323, 0.49821323, 0.49821323, 0.49821323, 0.49821322,\n",
       "        0.49821327, 0.49821322, 0.49821322, 0.49821322, 0.49821325,\n",
       "        0.49821323, 0.49821328, 0.49821321, 0.49821325, 0.49821326,\n",
       "        0.49821325, 0.49821325, 0.49821323, 0.49821323, 0.49821325,\n",
       "        0.49821326, 0.49821322, 0.49821324, 0.49821323, 0.49821325,\n",
       "        0.49821323, 0.49821325, 0.49821323, 0.49821323, 0.49821323,\n",
       "        0.49821325, 0.49821323, 0.4982132 , 0.49821321, 0.49821327,\n",
       "        0.49821325, 0.49821324, 0.49821324, 0.49821322, 0.49821323,\n",
       "        0.49821321, 0.49821322, 0.49821326, 0.49821328, 0.49821325,\n",
       "        0.4982132 , 0.49821324, 0.49821325, 0.49821325, 0.49821325,\n",
       "        0.49821322, 0.4982132 , 0.49821323, 0.49821321, 0.49821323,\n",
       "        0.49821321, 0.49821323, 0.49821322, 0.49821323, 0.49821327,\n",
       "        0.49821324, 0.49821325, 0.49821325, 0.4982132 , 0.49821324,\n",
       "        0.49821328, 0.49821324, 0.49821325, 0.49821323, 0.49821326,\n",
       "        0.49821324, 0.49821324, 0.49821324, 0.49821323, 0.49821323,\n",
       "        0.49821326, 0.49821319, 0.49821317, 0.49821322, 0.49821324,\n",
       "        0.4982132 , 0.49821319, 0.49821321, 0.49821321, 0.49821323,\n",
       "        0.49821324, 0.49821322, 0.49821322, 0.49821324, 0.4982132 ,\n",
       "        0.49821324, 0.49821325, 0.49821327, 0.49821324, 0.49821322,\n",
       "        0.49821324, 0.49821328, 0.49821324, 0.49821325, 0.49821326,\n",
       "        0.49821322]])"
      ]
     },
     "execution_count": 78,
     "metadata": {},
     "output_type": "execute_result"
    }
   ],
   "source": [
    "Y_hat"
   ]
  },
  {
   "cell_type": "code",
   "execution_count": 79,
   "id": "cbc17309",
   "metadata": {},
   "outputs": [
    {
     "name": "stdout",
     "output_type": "stream",
     "text": [
      "0.6934649602177015\n"
     ]
    }
   ],
   "source": [
    "print(cost(Y_hat, Y_train))"
   ]
  },
  {
   "cell_type": "code",
   "execution_count": 80,
   "id": "7b1ba24e",
   "metadata": {},
   "outputs": [],
   "source": [
    "# method which shows how what proportion of the results obtained coincided with the correct\n",
    "def accurasy(Y_hat, Y_train):\n",
    "    Y_hat_acc = Y_hat.copy()\n",
    "    Y_hat_acc[Y_hat <= 0.5] = 0\n",
    "    Y_hat_acc[Y_hat > 0.5] = 1\n",
    "    return (Y_hat_acc == Y_train).sum() / float(Y_train.shape[1])"
   ]
  },
  {
   "cell_type": "code",
   "execution_count": 81,
   "id": "959e9d9a",
   "metadata": {},
   "outputs": [
    {
     "data": {
      "text/plain": [
       "0.45643153526970953"
      ]
     },
     "execution_count": 81,
     "metadata": {},
     "output_type": "execute_result"
    }
   ],
   "source": [
    "# check\n",
    "Y_hat_acc = Y_hat.copy()\n",
    "Y_hat_acc[Y_hat <= 0.5] = 0\n",
    "Y_hat_acc[Y_hat > 0.5] = 1\n",
    "(Y_hat_acc == Y_train).sum() / float(Y_train.shape[1])"
   ]
  },
  {
   "cell_type": "markdown",
   "id": "6152cc1c",
   "metadata": {},
   "source": [
    "## Backward"
   ]
  },
  {
   "cell_type": "code",
   "execution_count": 82,
   "id": "87416bc2",
   "metadata": {},
   "outputs": [],
   "source": [
    "# function that calculating the gradient of neural network parameters. In short, the method traverses the network \n",
    "# in reverse order, from the output to the input layer, according to the chain rule from calculus\n",
    "def backward(dA, cache, activation):\n",
    "    \n",
    "    # inputs: dA - current layer outputs gradient\n",
    "    #         cache -  tuple with such info as: A_prev, W, b, Z\n",
    "    #         activation - the name of the activation function whose derivative is to be applied\n",
    "    # outputs: dA_prev - previous layer outputs gradients\n",
    "    #          dW - current layer weights gradient\n",
    "    #          db - current layer bies gradient\n",
    "    \n",
    "    A_prev, W, b, Z = cache\n",
    "    \n",
    "    if activation == 'relu':\n",
    "        dZ = relu_prime(dA, Z)\n",
    "    else:\n",
    "        dZ = sigmoid_prime(dA, Z)\n",
    "        \n",
    "    #dZ = dZ.reshape(dZ.shape[0], 1)\n",
    "    m = A_prev.shape[1]\n",
    "    \n",
    "    dW = (1 / m) * np.dot(dZ, A_prev.T)\n",
    "    db = (1 / m ) * np.sum(dZ, axis=1, keepdims=True)\n",
    "    dA_prev = np.dot(W.T, dZ)\n",
    "    \n",
    "    return dA_prev, dW, db"
   ]
  },
  {
   "cell_type": "code",
   "execution_count": 83,
   "id": "af2425d7",
   "metadata": {},
   "outputs": [],
   "source": [
    "# method that uses previous method(backward) for all of the model\n",
    "def model_backward(Y_hat, Y_train, caches):\n",
    "    \n",
    "    # inputs: Y_hat - the outputs of the model \n",
    "    #         Y_train - correct outputs\n",
    "    #         caches - list with off model's caches got after forward propagations\n",
    "    # outputs: grads - dictionary with all of the model's gradients\n",
    "    \n",
    "    grads = {}\n",
    "    L = len(caches)\n",
    "    m = Y_train.shape[1]\n",
    "    \n",
    "    if(Y_train.shape != Y_hat.shape):\n",
    "        Y_train = Y_train.reshape(Y_hat.shape)\n",
    "        \n",
    "    dY_hat = -(np.divide(Y_train, Y_hat) - np.divide((1 - Y_train), (1 - Y_hat)))\n",
    "    grads['dA'+ str(L-1)], grads['dW'+str(L)], grads['db'+str(L)] = backward(dY_hat, caches[L-1], 'sigmoid')\n",
    "    \n",
    "    for l in reversed(range(L-1)):\n",
    "        dA_prev, dW, db = backward(grads['dA'+str(l+1)], caches[l], 'sigmoid')\n",
    "        grads['dA'+str(l)] = dA_prev\n",
    "        grads['dW'+str(l+1)] = dW\n",
    "        grads['db'+str(l+1)] = db\n",
    "    \n",
    "    return grads\n",
    "    "
   ]
  },
  {
   "cell_type": "code",
   "execution_count": 84,
   "id": "245fc7e8",
   "metadata": {},
   "outputs": [],
   "source": [
    "grads = model_backward(Y_hat, Y_train, caches)"
   ]
  },
  {
   "cell_type": "code",
   "execution_count": 85,
   "id": "874979d5",
   "metadata": {},
   "outputs": [
    {
     "data": {
      "text/plain": [
       "{'dA2': array([[ 0.00468863,  0.00468863,  0.00468863,  0.00468863, -0.00465524,\n",
       "          0.00468863, -0.00465524, -0.00465524, -0.00465524,  0.00468863,\n",
       "          0.00468863,  0.00468863,  0.00468863,  0.00468863,  0.00468863,\n",
       "          0.00468863,  0.00468863,  0.00468863, -0.00465524,  0.00468863,\n",
       "         -0.00465524, -0.00465524,  0.00468863,  0.00468863,  0.00468863,\n",
       "          0.00468863,  0.00468863, -0.00465524, -0.00465524, -0.00465524,\n",
       "          0.00468863, -0.00465524, -0.00465524, -0.00465524, -0.00465524,\n",
       "          0.00468863, -0.00465524,  0.00468863,  0.00468863, -0.00465524,\n",
       "          0.00468863, -0.00465524, -0.00465524,  0.00468863, -0.00465524,\n",
       "         -0.00465524, -0.00465524,  0.00468863, -0.00465524,  0.00468863,\n",
       "          0.00468863, -0.00465524,  0.00468863,  0.00468863,  0.00468863,\n",
       "          0.00468863,  0.00468863, -0.00465524, -0.00465524, -0.00465524,\n",
       "          0.00468863, -0.00465524,  0.00468863, -0.00465524,  0.00468863,\n",
       "          0.00468863, -0.00465524, -0.00465524,  0.00468863,  0.00468863,\n",
       "         -0.00465524, -0.00465524,  0.00468863,  0.00468863, -0.00465524,\n",
       "         -0.00465524, -0.00465524,  0.00468863,  0.00468863, -0.00465524,\n",
       "         -0.00465524, -0.00465524, -0.00465524, -0.00465524,  0.00468863,\n",
       "          0.00468863,  0.00468863,  0.00468863,  0.00468863,  0.00468863,\n",
       "          0.00468863,  0.00468863, -0.00465524,  0.00468863, -0.00465524,\n",
       "         -0.00465524,  0.00468863,  0.00468863,  0.00468863,  0.00468863,\n",
       "          0.00468863,  0.00468863, -0.00465524,  0.00468863, -0.00465524,\n",
       "          0.00468863, -0.00465524,  0.00468863, -0.00465524,  0.00468863,\n",
       "          0.00468863, -0.00465524, -0.00465524, -0.00465524,  0.00468863,\n",
       "          0.00468863, -0.00465524,  0.00468863, -0.00465524,  0.00468863,\n",
       "         -0.00465524,  0.00468863, -0.00465524, -0.00465524, -0.00465524,\n",
       "          0.00468863,  0.00468863,  0.00468863, -0.00465524,  0.00468863,\n",
       "         -0.00465524,  0.00468863, -0.00465524, -0.00465524,  0.00468863,\n",
       "          0.00468863, -0.00465524,  0.00468863,  0.00468863, -0.00465524,\n",
       "         -0.00465524, -0.00465524,  0.00468863,  0.00468863,  0.00468863,\n",
       "          0.00468863,  0.00468863,  0.00468863, -0.00465524, -0.00465524,\n",
       "          0.00468863, -0.00465524,  0.00468863, -0.00465524,  0.00468863,\n",
       "          0.00468863, -0.00465524, -0.00465524, -0.00465524,  0.00468863,\n",
       "          0.00468863, -0.00465524, -0.00465524, -0.00465524,  0.00468863,\n",
       "          0.00468863,  0.00468863, -0.00465524, -0.00465524,  0.00468863,\n",
       "          0.00468863,  0.00468863, -0.00465524,  0.00468863,  0.00468863,\n",
       "         -0.00465524,  0.00468863,  0.00468863,  0.00468863, -0.00465524,\n",
       "          0.00468863,  0.00468863,  0.00468863,  0.00468863, -0.00465524,\n",
       "         -0.00465524,  0.00468863, -0.00465524,  0.00468863,  0.00468863,\n",
       "         -0.00465524,  0.00468863,  0.00468863,  0.00468863,  0.00468863,\n",
       "          0.00468863, -0.00465524,  0.00468863,  0.00468863, -0.00465524,\n",
       "          0.00468863,  0.00468863,  0.00468863,  0.00468863, -0.00465524,\n",
       "         -0.00465524, -0.00465524, -0.00465524,  0.00468863, -0.00465524,\n",
       "          0.00468863,  0.00468863, -0.00465524, -0.00465524, -0.00465524,\n",
       "         -0.00465524,  0.00468863,  0.00468863, -0.00465524, -0.00465524,\n",
       "          0.00468863, -0.00465524,  0.00468863, -0.00465524, -0.00465524,\n",
       "         -0.00465524,  0.00468863, -0.00465524, -0.00465524, -0.00465524,\n",
       "         -0.00465524, -0.00465524,  0.00468863, -0.00465524,  0.00468863,\n",
       "         -0.00465524, -0.00465524, -0.00465524, -0.00465524,  0.00468863,\n",
       "          0.00468863],\n",
       "        [ 0.00411086,  0.00411086,  0.00411086,  0.00411086, -0.00408159,\n",
       "          0.00411086, -0.00408159, -0.00408159, -0.00408159,  0.00411086,\n",
       "          0.00411086,  0.00411086,  0.00411086,  0.00411086,  0.00411086,\n",
       "          0.00411086,  0.00411086,  0.00411086, -0.00408159,  0.00411086,\n",
       "         -0.00408159, -0.00408159,  0.00411086,  0.00411086,  0.00411086,\n",
       "          0.00411086,  0.00411086, -0.00408159, -0.00408159, -0.00408159,\n",
       "          0.00411086, -0.00408159, -0.00408159, -0.00408159, -0.00408159,\n",
       "          0.00411086, -0.00408159,  0.00411086,  0.00411086, -0.00408159,\n",
       "          0.00411086, -0.00408159, -0.00408159,  0.00411086, -0.00408159,\n",
       "         -0.00408159, -0.00408159,  0.00411086, -0.00408159,  0.00411086,\n",
       "          0.00411086, -0.00408159,  0.00411086,  0.00411086,  0.00411086,\n",
       "          0.00411086,  0.00411086, -0.00408159, -0.00408159, -0.00408159,\n",
       "          0.00411086, -0.00408159,  0.00411086, -0.00408159,  0.00411086,\n",
       "          0.00411086, -0.00408159, -0.00408159,  0.00411086,  0.00411086,\n",
       "         -0.00408159, -0.00408159,  0.00411086,  0.00411086, -0.00408159,\n",
       "         -0.00408159, -0.00408159,  0.00411086,  0.00411086, -0.00408159,\n",
       "         -0.00408159, -0.00408159, -0.00408159, -0.00408159,  0.00411086,\n",
       "          0.00411086,  0.00411086,  0.00411086,  0.00411086,  0.00411086,\n",
       "          0.00411086,  0.00411086, -0.00408159,  0.00411086, -0.00408159,\n",
       "         -0.00408159,  0.00411086,  0.00411086,  0.00411086,  0.00411086,\n",
       "          0.00411086,  0.00411086, -0.00408159,  0.00411086, -0.00408159,\n",
       "          0.00411086, -0.00408159,  0.00411086, -0.00408159,  0.00411086,\n",
       "          0.00411086, -0.00408159, -0.00408159, -0.00408159,  0.00411086,\n",
       "          0.00411086, -0.00408159,  0.00411086, -0.00408159,  0.00411086,\n",
       "         -0.00408159,  0.00411086, -0.00408159, -0.00408159, -0.00408159,\n",
       "          0.00411086,  0.00411086,  0.00411086, -0.00408159,  0.00411086,\n",
       "         -0.00408159,  0.00411086, -0.00408159, -0.00408159,  0.00411086,\n",
       "          0.00411086, -0.00408159,  0.00411086,  0.00411086, -0.00408159,\n",
       "         -0.00408159, -0.00408159,  0.00411086,  0.00411086,  0.00411086,\n",
       "          0.00411086,  0.00411086,  0.00411086, -0.00408159, -0.00408159,\n",
       "          0.00411086, -0.00408159,  0.00411086, -0.00408159,  0.00411086,\n",
       "          0.00411086, -0.00408159, -0.00408159, -0.00408159,  0.00411086,\n",
       "          0.00411086, -0.00408159, -0.00408159, -0.00408159,  0.00411086,\n",
       "          0.00411086,  0.00411086, -0.00408159, -0.00408159,  0.00411086,\n",
       "          0.00411086,  0.00411086, -0.00408159,  0.00411086,  0.00411086,\n",
       "         -0.00408159,  0.00411086,  0.00411086,  0.00411086, -0.00408159,\n",
       "          0.00411086,  0.00411086,  0.00411086,  0.00411086, -0.00408159,\n",
       "         -0.00408159,  0.00411086, -0.00408159,  0.00411086,  0.00411086,\n",
       "         -0.00408159,  0.00411086,  0.00411086,  0.00411086,  0.00411086,\n",
       "          0.00411086, -0.00408159,  0.00411086,  0.00411086, -0.00408159,\n",
       "          0.00411086,  0.00411086,  0.00411086,  0.00411086, -0.00408159,\n",
       "         -0.00408159, -0.00408159, -0.00408159,  0.00411086, -0.00408159,\n",
       "          0.00411086,  0.00411086, -0.00408159, -0.00408159, -0.00408159,\n",
       "         -0.00408159,  0.00411086,  0.00411086, -0.00408159, -0.00408159,\n",
       "          0.00411086, -0.00408159,  0.00411086, -0.00408159, -0.00408159,\n",
       "         -0.00408159,  0.00411086, -0.00408159, -0.00408159, -0.00408159,\n",
       "         -0.00408159, -0.00408159,  0.00411086, -0.00408159,  0.00411086,\n",
       "         -0.00408159, -0.00408159, -0.00408159, -0.00408159,  0.00411086,\n",
       "          0.00411086],\n",
       "        [-0.00162115, -0.00162115, -0.00162115, -0.00162115,  0.00160961,\n",
       "         -0.00162115,  0.00160961,  0.00160961,  0.00160961, -0.00162115,\n",
       "         -0.00162115, -0.00162115, -0.00162115, -0.00162115, -0.00162115,\n",
       "         -0.00162115, -0.00162115, -0.00162115,  0.00160961, -0.00162115,\n",
       "          0.00160961,  0.00160961, -0.00162115, -0.00162115, -0.00162115,\n",
       "         -0.00162115, -0.00162115,  0.00160961,  0.00160961,  0.00160961,\n",
       "         -0.00162115,  0.00160961,  0.00160961,  0.00160961,  0.00160961,\n",
       "         -0.00162115,  0.00160961, -0.00162115, -0.00162115,  0.00160961,\n",
       "         -0.00162115,  0.00160961,  0.00160961, -0.00162115,  0.00160961,\n",
       "          0.00160961,  0.00160961, -0.00162115,  0.00160961, -0.00162115,\n",
       "         -0.00162115,  0.00160961, -0.00162115, -0.00162115, -0.00162115,\n",
       "         -0.00162115, -0.00162115,  0.00160961,  0.00160961,  0.00160961,\n",
       "         -0.00162115,  0.00160961, -0.00162115,  0.00160961, -0.00162115,\n",
       "         -0.00162115,  0.00160961,  0.00160961, -0.00162115, -0.00162115,\n",
       "          0.00160961,  0.00160961, -0.00162115, -0.00162115,  0.00160961,\n",
       "          0.00160961,  0.00160961, -0.00162115, -0.00162115,  0.00160961,\n",
       "          0.00160961,  0.00160961,  0.00160961,  0.00160961, -0.00162115,\n",
       "         -0.00162115, -0.00162115, -0.00162115, -0.00162115, -0.00162115,\n",
       "         -0.00162115, -0.00162115,  0.00160961, -0.00162115,  0.00160961,\n",
       "          0.00160961, -0.00162115, -0.00162115, -0.00162115, -0.00162115,\n",
       "         -0.00162115, -0.00162115,  0.00160961, -0.00162115,  0.00160961,\n",
       "         -0.00162115,  0.00160961, -0.00162115,  0.00160961, -0.00162115,\n",
       "         -0.00162115,  0.00160961,  0.00160961,  0.00160961, -0.00162115,\n",
       "         -0.00162115,  0.00160961, -0.00162115,  0.00160961, -0.00162115,\n",
       "          0.00160961, -0.00162115,  0.00160961,  0.00160961,  0.00160961,\n",
       "         -0.00162115, -0.00162115, -0.00162115,  0.00160961, -0.00162115,\n",
       "          0.00160961, -0.00162115,  0.00160961,  0.00160961, -0.00162115,\n",
       "         -0.00162115,  0.00160961, -0.00162115, -0.00162115,  0.00160961,\n",
       "          0.00160961,  0.00160961, -0.00162115, -0.00162115, -0.00162115,\n",
       "         -0.00162115, -0.00162115, -0.00162115,  0.00160961,  0.00160961,\n",
       "         -0.00162115,  0.00160961, -0.00162115,  0.00160961, -0.00162115,\n",
       "         -0.00162115,  0.00160961,  0.00160961,  0.00160961, -0.00162115,\n",
       "         -0.00162115,  0.00160961,  0.00160961,  0.00160961, -0.00162115,\n",
       "         -0.00162115, -0.00162115,  0.00160961,  0.00160961, -0.00162115,\n",
       "         -0.00162115, -0.00162115,  0.00160961, -0.00162115, -0.00162115,\n",
       "          0.00160961, -0.00162115, -0.00162115, -0.00162115,  0.00160961,\n",
       "         -0.00162115, -0.00162115, -0.00162115, -0.00162115,  0.00160961,\n",
       "          0.00160961, -0.00162115,  0.00160961, -0.00162115, -0.00162115,\n",
       "          0.00160961, -0.00162115, -0.00162115, -0.00162115, -0.00162115,\n",
       "         -0.00162115,  0.00160961, -0.00162115, -0.00162115,  0.00160961,\n",
       "         -0.00162115, -0.00162115, -0.00162115, -0.00162115,  0.00160961,\n",
       "          0.00160961,  0.00160961,  0.00160961, -0.00162115,  0.00160961,\n",
       "         -0.00162115, -0.00162115,  0.00160961,  0.00160961,  0.00160961,\n",
       "          0.00160961, -0.00162115, -0.00162115,  0.00160961,  0.00160961,\n",
       "         -0.00162115,  0.00160961, -0.00162115,  0.00160961,  0.00160961,\n",
       "          0.00160961, -0.00162115,  0.00160961,  0.00160961,  0.00160961,\n",
       "          0.00160961,  0.00160961, -0.00162115,  0.00160961, -0.00162115,\n",
       "          0.00160961,  0.00160961,  0.00160961,  0.00160961, -0.00162115,\n",
       "         -0.00162115]]),\n",
       " 'dW3': array([[-0.02273062, -0.0225028 , -0.02246541]]),\n",
       " 'db3': array([[-0.04535523]]),\n",
       " 'dA1': array([[ 1.95190014e-05,  1.95190044e-05,  1.95189996e-05, ...,\n",
       "         -1.93799994e-05,  1.95190033e-05,  1.95190025e-05],\n",
       "        [ 1.95299140e-05,  1.95299196e-05,  1.95299132e-05, ...,\n",
       "         -1.93908338e-05,  1.95299139e-05,  1.95299178e-05],\n",
       "        [ 9.73640770e-06,  9.73641731e-06,  9.73640824e-06, ...,\n",
       "         -9.66707219e-06,  9.73640505e-06,  9.73641552e-06],\n",
       "        [-3.00782443e-05, -3.00782675e-05, -3.00782466e-05, ...,\n",
       "          2.98640462e-05, -3.00782368e-05, -3.00782638e-05],\n",
       "        [-2.48813551e-05, -2.48813606e-05, -2.48813586e-05, ...,\n",
       "          2.47041592e-05, -2.48813500e-05, -2.48813615e-05]]),\n",
       " 'dW2': array([[ 5.33868092e-05,  5.17966926e-05,  5.26742811e-05,\n",
       "          5.23467223e-05,  5.17052075e-05],\n",
       "        [ 4.68055454e-05,  4.54114506e-05,  4.61808542e-05,\n",
       "          4.58936752e-05,  4.53312434e-05],\n",
       "        [-1.84576462e-05, -1.79078885e-05, -1.82113008e-05,\n",
       "         -1.80980526e-05, -1.78762590e-05]]),\n",
       " 'db2': array([[ 1.05947803e-04],\n",
       "        [ 9.28870771e-05],\n",
       "        [-3.66297795e-05]]),\n",
       " 'dA0': array([[-8.10698173e-08, -8.10634688e-08, -8.10722727e-08, ...,\n",
       "          8.04873741e-08, -8.10689677e-08, -8.10670808e-08],\n",
       "        [-8.31382837e-08, -8.31297964e-08, -8.31408596e-08, ...,\n",
       "          8.25403782e-08, -8.31376873e-08, -8.31338923e-08],\n",
       "        [-3.21027827e-08, -3.21160630e-08, -3.21014158e-08, ...,\n",
       "          3.18838438e-08, -3.21065633e-08, -3.21131981e-08],\n",
       "        ...,\n",
       "        [-3.31701873e-08, -3.31512721e-08, -3.31749696e-08, ...,\n",
       "          3.29228852e-08, -3.31695234e-08, -3.31584384e-08],\n",
       "        [-2.10989584e-07, -2.10956870e-07, -2.10994775e-07, ...,\n",
       "          2.09468638e-07, -2.10988278e-07, -2.10968442e-07],\n",
       "        [-5.10089543e-08, -5.10046638e-08, -5.10076107e-08, ...,\n",
       "          5.06420601e-08, -5.10060784e-08, -5.10052138e-08]]),\n",
       " 'dW1': array([[-5.49437685e-08, -2.64636990e-07, -2.25746628e-07,\n",
       "          3.09938115e-07,  9.35825522e-07, -2.58523048e-07,\n",
       "         -2.53609969e-07,  1.14430922e-06, -2.70751451e-07,\n",
       "         -2.82676793e-07, -2.39382380e-07, -2.81604167e-07,\n",
       "         -2.58197659e-07],\n",
       "        [-5.49749919e-08, -2.64671210e-07, -2.25765577e-07,\n",
       "          3.09915795e-07,  9.35889514e-07, -2.58553967e-07,\n",
       "         -2.53639718e-07,  1.14459157e-06, -2.70787676e-07,\n",
       "         -2.82719123e-07, -2.39407711e-07, -2.81645134e-07,\n",
       "         -2.58231771e-07],\n",
       "        [-2.74140729e-08, -1.32007029e-07, -1.12605183e-07,\n",
       "          1.54589004e-07,  4.66795979e-07, -1.28956725e-07,\n",
       "         -1.26505775e-07,  5.70843608e-07, -1.35057450e-07,\n",
       "         -1.41007213e-07, -1.19408112e-07, -1.40471833e-07,\n",
       "         -1.28795198e-07],\n",
       "        [ 8.46866435e-08,  4.07768218e-07,  3.47832709e-07,\n",
       "         -4.77502120e-07, -1.44191845e-06,  3.98344839e-07,\n",
       "          3.90773863e-07, -1.76335994e-06,  4.17190994e-07,\n",
       "          4.35570944e-07,  3.68848348e-07,  4.33917000e-07,\n",
       "          3.97846946e-07],\n",
       "        [ 7.00490286e-08,  3.37184620e-07,  2.87615201e-07,\n",
       "         -3.94799278e-07, -1.19226902e-06,  3.29390338e-07,\n",
       "          3.23129315e-07, -1.45824745e-06,  3.44977564e-07,\n",
       "          3.60180054e-07,  3.04996945e-07,  3.58811244e-07,\n",
       "          3.28981440e-07]]),\n",
       " 'db1': array([[ 4.41052049e-07],\n",
       "        [ 4.41104202e-07],\n",
       "        [ 2.20005733e-07],\n",
       "        [-6.79593668e-07],\n",
       "        [-5.61953585e-07]])}"
      ]
     },
     "execution_count": 85,
     "metadata": {},
     "output_type": "execute_result"
    }
   ],
   "source": [
    "grads"
   ]
  },
  {
   "cell_type": "markdown",
   "id": "2698d922",
   "metadata": {},
   "source": [
    "## Parameters Update"
   ]
  },
  {
   "cell_type": "code",
   "execution_count": 86,
   "id": "e0876337",
   "metadata": {},
   "outputs": [],
   "source": [
    "# method which updates the parameters before the next training epoch\n",
    "def update_params(params, grads, learning_rate = 0.3):\n",
    "    L = len(params) // 2\n",
    "    for l in range(1, L+1):\n",
    "        params['W'+str(l)] = params['W'+str(l)] - learning_rate * grads['dW'+str(l)]\n",
    "        params['b'+str(l)] = params['b'+str(l)] - learning_rate * grads['db'+str(l)]\n",
    "    \n",
    "    return params"
   ]
  },
  {
   "cell_type": "code",
   "execution_count": 87,
   "id": "cf3084c7",
   "metadata": {},
   "outputs": [
    {
     "data": {
      "text/plain": [
       "{'W1': array([[-0.0012639 ,  0.00105912, -0.00502376,  0.01204486,  0.00136556,\n",
       "         -0.01631084,  0.00596991, -0.00408487, -0.00825994, -0.00566044,\n",
       "          0.01890032,  0.00513727, -0.01954532],\n",
       "        [ 0.00327077,  0.0017348 ,  0.01761818, -0.00069227, -0.00632357,\n",
       "         -0.00702204, -0.00776914, -0.0083065 ,  0.00558127,  0.01734118,\n",
       "         -0.00553488, -0.00630197, -0.00067748],\n",
       "        [-0.01561188, -0.01245359, -0.01265682,  0.01605522, -0.00756431,\n",
       "          0.0104929 , -0.01024538, -0.0010554 ,  0.00965233,  0.01428352,\n",
       "         -0.00014396, -0.00109931,  0.00878634],\n",
       "        [ 0.00112271,  0.00353146,  0.0110571 , -0.00132072,  0.00571305,\n",
       "          0.01575903, -0.00285242, -0.00676109, -0.00061083, -0.00366254,\n",
       "          0.01177936,  0.01235501, -0.01665326],\n",
       "        [ 0.0071436 ,  0.00641633, -0.00327433,  0.01092417, -0.00343492,\n",
       "         -0.00200904,  0.00354854, -0.00661421,  0.00322493,  0.00595891,\n",
       "          0.00151794,  0.01764155,  0.01591021]]),\n",
       " 'b1': array([[-2.20526024e-07],\n",
       "        [-2.20552101e-07],\n",
       "        [-1.10002867e-07],\n",
       "        [ 3.39796834e-07],\n",
       "        [ 2.80976792e-07]]),\n",
       " 'W2': array([[ 0.01499894,  0.01138317, -0.00336418,  0.00198495, -0.01602603],\n",
       "        [-0.00443244,  0.0014452 ,  0.01113049, -0.02840235, -0.01116325],\n",
       "        [-0.01587627, -0.01146105, -0.00538714,  0.00808155, -0.01312346]]),\n",
       " 'b2': array([[-5.29739013e-05],\n",
       "        [-4.64435386e-05],\n",
       "        [ 1.83148897e-05]]),\n",
       " 'W3': array([[0.00202144, 0.00305895, 0.01446347]]),\n",
       " 'b3': array([[0.02267761]])}"
      ]
     },
     "execution_count": 87,
     "metadata": {},
     "output_type": "execute_result"
    }
   ],
   "source": [
    "params = update_params(params, grads, learning_rate=0.5)\n",
    "params"
   ]
  },
  {
   "cell_type": "code",
   "execution_count": 88,
   "id": "163c6876",
   "metadata": {},
   "outputs": [],
   "source": [
    "def train(X_train, Y_train, learning_rate = 0.1, epochs = 100, print_cost = False, print_accuracy = False):\n",
    "    \n",
    "    layers = [X_train.shape[0], 10, 8, 6, 4, 2, 1]\n",
    "    params = params_initialisanion(layers)\n",
    "    \n",
    "    \n",
    "    for i in range(epochs):\n",
    "        Y_hat, caches = model_forward(X_train, params)\n",
    "        \n",
    "        if print_cost and print_accuracy:\n",
    "            if (i+1) % 10 == 0 or i == 0: \n",
    "                print(f'Iteration {i} cost: {cost(Y_hat, Y_train)} | accurasy: {accurasy(Y_hat, Y_train)}')\n",
    "        elif print_cost == True and print_accuracy == False:\n",
    "            if (i+1) % 10 == 0 or i == 0: \n",
    "                print(f'Iteration {i} cost: {cost(Y_hat, Y_train)}')\n",
    "        elif print_cost == False and print_accuracy == True:\n",
    "            if (i+1) % 10 == 0 or i == 0: \n",
    "                print(f'Iteration {i} accuracy: {accurasy(Y_hat, Y_train)}')\n",
    "        else:\n",
    "            break\n",
    "        \n",
    "        grads = model_backward(Y_hat, Y_train, caches)\n",
    "        \n",
    "        params = update_params(params, grads, learning_rate)\n",
    "        \n",
    "    return params\n",
    "        "
   ]
  },
  {
   "cell_type": "code",
   "execution_count": 89,
   "id": "dd67b7b0",
   "metadata": {},
   "outputs": [
    {
     "name": "stdout",
     "output_type": "stream",
     "text": [
      "Iteration 0 cost: 0.6932346408637994 | accurasy: 0.45643153526970953\n",
      "Iteration 9 cost: 0.6898015483177724 | accurasy: 0.5435684647302904\n",
      "Iteration 19 cost: 0.689388256515371 | accurasy: 0.5435684647302904\n",
      "Iteration 29 cost: 0.6893498801424982 | accurasy: 0.5435684647302904\n",
      "Iteration 39 cost: 0.6893463066917346 | accurasy: 0.5435684647302904\n",
      "Iteration 49 cost: 0.689345973639804 | accurasy: 0.5435684647302904\n",
      "Iteration 59 cost: 0.6893459425898476 | accurasy: 0.5435684647302904\n",
      "Iteration 69 cost: 0.6893459396948488 | accurasy: 0.5435684647302904\n",
      "Iteration 79 cost: 0.689345939424921 | accurasy: 0.5435684647302904\n",
      "Iteration 89 cost: 0.6893459393997529 | accurasy: 0.5435684647302904\n",
      "Iteration 99 cost: 0.6893459393974062 | accurasy: 0.5435684647302904\n",
      "Iteration 109 cost: 0.6893459393971874 | accurasy: 0.5435684647302904\n",
      "Iteration 119 cost: 0.6893459393971669 | accurasy: 0.5435684647302904\n",
      "Iteration 129 cost: 0.6893459393971649 | accurasy: 0.5435684647302904\n",
      "Iteration 139 cost: 0.6893459393971647 | accurasy: 0.5435684647302904\n",
      "Iteration 149 cost: 0.6893459393971648 | accurasy: 0.5435684647302904\n",
      "Iteration 159 cost: 0.6893459393971647 | accurasy: 0.5435684647302904\n",
      "Iteration 169 cost: 0.6893459393971647 | accurasy: 0.5435684647302904\n",
      "Iteration 179 cost: 0.6893459393971649 | accurasy: 0.5435684647302904\n",
      "Iteration 189 cost: 0.6893459393971647 | accurasy: 0.5435684647302904\n",
      "Iteration 199 cost: 0.6893459393971648 | accurasy: 0.5435684647302904\n",
      "Iteration 209 cost: 0.6893459393971648 | accurasy: 0.5435684647302904\n",
      "Iteration 219 cost: 0.6893459393971649 | accurasy: 0.5435684647302904\n",
      "Iteration 229 cost: 0.6893459393971647 | accurasy: 0.5435684647302904\n",
      "Iteration 239 cost: 0.6893459393971649 | accurasy: 0.5435684647302904\n",
      "Iteration 249 cost: 0.6893459393971648 | accurasy: 0.5435684647302904\n",
      "Iteration 259 cost: 0.6893459393971648 | accurasy: 0.5435684647302904\n",
      "Iteration 269 cost: 0.6893459393971648 | accurasy: 0.5435684647302904\n",
      "Iteration 279 cost: 0.6893459393971647 | accurasy: 0.5435684647302904\n",
      "Iteration 289 cost: 0.6893459393971647 | accurasy: 0.5435684647302904\n",
      "Iteration 299 cost: 0.6893459393971648 | accurasy: 0.5435684647302904\n",
      "Iteration 309 cost: 0.6893459393971647 | accurasy: 0.5435684647302904\n",
      "Iteration 319 cost: 0.6893459393971647 | accurasy: 0.5435684647302904\n",
      "Iteration 329 cost: 0.6893459393971647 | accurasy: 0.5435684647302904\n",
      "Iteration 339 cost: 0.6893459393971647 | accurasy: 0.5435684647302904\n",
      "Iteration 349 cost: 0.6893459393971647 | accurasy: 0.5435684647302904\n",
      "Iteration 359 cost: 0.6893459393971647 | accurasy: 0.5435684647302904\n",
      "Iteration 369 cost: 0.6893459393971647 | accurasy: 0.5435684647302904\n",
      "Iteration 379 cost: 0.6893459393971647 | accurasy: 0.5435684647302904\n",
      "Iteration 389 cost: 0.6893459393971647 | accurasy: 0.5435684647302904\n",
      "Iteration 399 cost: 0.6893459393971647 | accurasy: 0.5435684647302904\n",
      "Iteration 409 cost: 0.6893459393971647 | accurasy: 0.5435684647302904\n",
      "Iteration 419 cost: 0.6893459393971647 | accurasy: 0.5435684647302904\n",
      "Iteration 429 cost: 0.6893459393971647 | accurasy: 0.5435684647302904\n",
      "Iteration 439 cost: 0.6893459393971647 | accurasy: 0.5435684647302904\n",
      "Iteration 449 cost: 0.6893459393971647 | accurasy: 0.5435684647302904\n",
      "Iteration 459 cost: 0.6893459393971647 | accurasy: 0.5435684647302904\n",
      "Iteration 469 cost: 0.6893459393971647 | accurasy: 0.5435684647302904\n",
      "Iteration 479 cost: 0.6893459393971647 | accurasy: 0.5435684647302904\n",
      "Iteration 489 cost: 0.6893459393971647 | accurasy: 0.5435684647302904\n",
      "Iteration 499 cost: 0.6893459393971647 | accurasy: 0.5435684647302904\n",
      "Iteration 509 cost: 0.6893459393971647 | accurasy: 0.5435684647302904\n",
      "Iteration 519 cost: 0.6893459393971647 | accurasy: 0.5435684647302904\n",
      "Iteration 529 cost: 0.6893459393971647 | accurasy: 0.5435684647302904\n",
      "Iteration 539 cost: 0.6893459393971647 | accurasy: 0.5435684647302904\n",
      "Iteration 549 cost: 0.6893459393971647 | accurasy: 0.5435684647302904\n",
      "Iteration 559 cost: 0.6893459393971647 | accurasy: 0.5435684647302904\n",
      "Iteration 569 cost: 0.6893459393971647 | accurasy: 0.5435684647302904\n",
      "Iteration 579 cost: 0.6893459393971647 | accurasy: 0.5435684647302904\n",
      "Iteration 589 cost: 0.6893459393971647 | accurasy: 0.5435684647302904\n",
      "Iteration 599 cost: 0.6893459393971647 | accurasy: 0.5435684647302904\n",
      "Iteration 609 cost: 0.6893459393971647 | accurasy: 0.5435684647302904\n",
      "Iteration 619 cost: 0.6893459393971647 | accurasy: 0.5435684647302904\n",
      "Iteration 629 cost: 0.6893459393971647 | accurasy: 0.5435684647302904\n",
      "Iteration 639 cost: 0.6893459393971647 | accurasy: 0.5435684647302904\n",
      "Iteration 649 cost: 0.6893459393971647 | accurasy: 0.5435684647302904\n",
      "Iteration 659 cost: 0.6893459393971647 | accurasy: 0.5435684647302904\n",
      "Iteration 669 cost: 0.6893459393971647 | accurasy: 0.5435684647302904\n",
      "Iteration 679 cost: 0.6893459393971647 | accurasy: 0.5435684647302904\n",
      "Iteration 689 cost: 0.6893459393971647 | accurasy: 0.5435684647302904\n",
      "Iteration 699 cost: 0.6893459393971647 | accurasy: 0.5435684647302904\n",
      "Iteration 709 cost: 0.6893459393971647 | accurasy: 0.5435684647302904\n",
      "Iteration 719 cost: 0.6893459393971647 | accurasy: 0.5435684647302904\n",
      "Iteration 729 cost: 0.6893459393971647 | accurasy: 0.5435684647302904\n",
      "Iteration 739 cost: 0.6893459393971647 | accurasy: 0.5435684647302904\n",
      "Iteration 749 cost: 0.6893459393971647 | accurasy: 0.5435684647302904\n",
      "Iteration 759 cost: 0.6893459393971647 | accurasy: 0.5435684647302904\n",
      "Iteration 769 cost: 0.6893459393971647 | accurasy: 0.5435684647302904\n",
      "Iteration 779 cost: 0.6893459393971647 | accurasy: 0.5435684647302904\n",
      "Iteration 789 cost: 0.6893459393971647 | accurasy: 0.5435684647302904\n",
      "Iteration 799 cost: 0.6893459393971647 | accurasy: 0.5435684647302904\n",
      "Iteration 809 cost: 0.6893459393971647 | accurasy: 0.5435684647302904\n",
      "Iteration 819 cost: 0.6893459393971647 | accurasy: 0.5435684647302904\n",
      "Iteration 829 cost: 0.6893459393971647 | accurasy: 0.5435684647302904\n",
      "Iteration 839 cost: 0.6893459393971647 | accurasy: 0.5435684647302904\n",
      "Iteration 849 cost: 0.6893459393971647 | accurasy: 0.5435684647302904\n",
      "Iteration 859 cost: 0.6893459393971647 | accurasy: 0.5435684647302904\n",
      "Iteration 869 cost: 0.6893459393971647 | accurasy: 0.5435684647302904\n",
      "Iteration 879 cost: 0.6893459393971647 | accurasy: 0.5435684647302904\n",
      "Iteration 889 cost: 0.6893459393971647 | accurasy: 0.5435684647302904\n",
      "Iteration 899 cost: 0.6893459393971647 | accurasy: 0.5435684647302904\n",
      "Iteration 909 cost: 0.6893459393971647 | accurasy: 0.5435684647302904\n",
      "Iteration 919 cost: 0.6893459393971647 | accurasy: 0.5435684647302904\n",
      "Iteration 929 cost: 0.6893459393971647 | accurasy: 0.5435684647302904\n",
      "Iteration 939 cost: 0.6893459393971647 | accurasy: 0.5435684647302904\n",
      "Iteration 949 cost: 0.6893459393971647 | accurasy: 0.5435684647302904\n",
      "Iteration 959 cost: 0.6893459393971647 | accurasy: 0.5435684647302904\n",
      "Iteration 969 cost: 0.6893459393971647 | accurasy: 0.5435684647302904\n",
      "Iteration 979 cost: 0.6893459393971647 | accurasy: 0.5435684647302904\n",
      "Iteration 989 cost: 0.6893459393971647 | accurasy: 0.5435684647302904\n",
      "Iteration 999 cost: 0.6893459393971647 | accurasy: 0.5435684647302904\n",
      "Iteration 1009 cost: 0.6893459393971647 | accurasy: 0.5435684647302904\n",
      "Iteration 1019 cost: 0.6893459393971647 | accurasy: 0.5435684647302904\n",
      "Iteration 1029 cost: 0.6893459393971647 | accurasy: 0.5435684647302904\n",
      "Iteration 1039 cost: 0.6893459393971647 | accurasy: 0.5435684647302904\n",
      "Iteration 1049 cost: 0.6893459393971647 | accurasy: 0.5435684647302904\n",
      "Iteration 1059 cost: 0.6893459393971647 | accurasy: 0.5435684647302904\n",
      "Iteration 1069 cost: 0.6893459393971647 | accurasy: 0.5435684647302904\n",
      "Iteration 1079 cost: 0.6893459393971647 | accurasy: 0.5435684647302904\n",
      "Iteration 1089 cost: 0.6893459393971647 | accurasy: 0.5435684647302904\n",
      "Iteration 1099 cost: 0.6893459393971647 | accurasy: 0.5435684647302904\n",
      "Iteration 1109 cost: 0.6893459393971647 | accurasy: 0.5435684647302904\n",
      "Iteration 1119 cost: 0.6893459393971647 | accurasy: 0.5435684647302904\n",
      "Iteration 1129 cost: 0.6893459393971647 | accurasy: 0.5435684647302904\n",
      "Iteration 1139 cost: 0.6893459393971647 | accurasy: 0.5435684647302904\n",
      "Iteration 1149 cost: 0.6893459393971647 | accurasy: 0.5435684647302904\n",
      "Iteration 1159 cost: 0.6893459393971647 | accurasy: 0.5435684647302904\n",
      "Iteration 1169 cost: 0.6893459393971647 | accurasy: 0.5435684647302904\n",
      "Iteration 1179 cost: 0.6893459393971647 | accurasy: 0.5435684647302904\n",
      "Iteration 1189 cost: 0.6893459393971647 | accurasy: 0.5435684647302904\n",
      "Iteration 1199 cost: 0.6893459393971647 | accurasy: 0.5435684647302904\n",
      "Iteration 1209 cost: 0.6893459393971647 | accurasy: 0.5435684647302904\n",
      "Iteration 1219 cost: 0.6893459393971647 | accurasy: 0.5435684647302904\n",
      "Iteration 1229 cost: 0.6893459393971647 | accurasy: 0.5435684647302904\n",
      "Iteration 1239 cost: 0.6893459393971647 | accurasy: 0.5435684647302904\n"
     ]
    },
    {
     "name": "stdout",
     "output_type": "stream",
     "text": [
      "Iteration 1249 cost: 0.6893459393971647 | accurasy: 0.5435684647302904\n",
      "Iteration 1259 cost: 0.6893459393971647 | accurasy: 0.5435684647302904\n",
      "Iteration 1269 cost: 0.6893459393971647 | accurasy: 0.5435684647302904\n",
      "Iteration 1279 cost: 0.6893459393971647 | accurasy: 0.5435684647302904\n",
      "Iteration 1289 cost: 0.6893459393971647 | accurasy: 0.5435684647302904\n",
      "Iteration 1299 cost: 0.6893459393971647 | accurasy: 0.5435684647302904\n",
      "Iteration 1309 cost: 0.6893459393971647 | accurasy: 0.5435684647302904\n",
      "Iteration 1319 cost: 0.6893459393971647 | accurasy: 0.5435684647302904\n",
      "Iteration 1329 cost: 0.6893459393971647 | accurasy: 0.5435684647302904\n",
      "Iteration 1339 cost: 0.6893459393971647 | accurasy: 0.5435684647302904\n",
      "Iteration 1349 cost: 0.6893459393971647 | accurasy: 0.5435684647302904\n",
      "Iteration 1359 cost: 0.6893459393971647 | accurasy: 0.5435684647302904\n",
      "Iteration 1369 cost: 0.6893459393971647 | accurasy: 0.5435684647302904\n",
      "Iteration 1379 cost: 0.6893459393971647 | accurasy: 0.5435684647302904\n",
      "Iteration 1389 cost: 0.6893459393971647 | accurasy: 0.5435684647302904\n",
      "Iteration 1399 cost: 0.6893459393971647 | accurasy: 0.5435684647302904\n",
      "Iteration 1409 cost: 0.6893459393971647 | accurasy: 0.5435684647302904\n",
      "Iteration 1419 cost: 0.6893459393971647 | accurasy: 0.5435684647302904\n",
      "Iteration 1429 cost: 0.6893459393971647 | accurasy: 0.5435684647302904\n",
      "Iteration 1439 cost: 0.6893459393971647 | accurasy: 0.5435684647302904\n",
      "Iteration 1449 cost: 0.6893459393971647 | accurasy: 0.5435684647302904\n",
      "Iteration 1459 cost: 0.6893459393971647 | accurasy: 0.5435684647302904\n",
      "Iteration 1469 cost: 0.6893459393971647 | accurasy: 0.5435684647302904\n",
      "Iteration 1479 cost: 0.6893459393971647 | accurasy: 0.5435684647302904\n",
      "Iteration 1489 cost: 0.6893459393971647 | accurasy: 0.5435684647302904\n",
      "Iteration 1499 cost: 0.6893459393971647 | accurasy: 0.5435684647302904\n"
     ]
    }
   ],
   "source": [
    "# model training\n",
    "parameters = train(X_train, Y_train, learning_rate=0.3, epochs=1500, print_cost=True, print_accuracy=True)\n",
    "\n",
    "### Cost and accurasy methods are working well"
   ]
  },
  {
   "cell_type": "code",
   "execution_count": 90,
   "id": "c5724475",
   "metadata": {},
   "outputs": [
    {
     "data": {
      "text/plain": [
       "array([[0.49821324, 0.49821322, 0.49821323, 0.49821322, 0.49821325,\n",
       "        0.49821324, 0.49821324, 0.49821319, 0.49821324, 0.49821323,\n",
       "        0.49821326, 0.49821321, 0.49821319, 0.49821325, 0.49821321,\n",
       "        0.49821324, 0.49821323, 0.49821324, 0.49821323, 0.49821324,\n",
       "        0.49821325, 0.49821328, 0.49821323, 0.49821323, 0.49821323,\n",
       "        0.49821326, 0.49821322, 0.49821323, 0.49821322, 0.49821323,\n",
       "        0.49821322, 0.49821326, 0.49821322, 0.49821326, 0.49821324,\n",
       "        0.49821322, 0.49821324, 0.49821324, 0.49821324, 0.49821327,\n",
       "        0.49821324, 0.49821322, 0.49821325, 0.49821324, 0.49821324,\n",
       "        0.49821323, 0.49821328, 0.49821321, 0.49821321, 0.49821323,\n",
       "        0.49821322, 0.49821328, 0.49821322, 0.49821321, 0.49821321,\n",
       "        0.49821325, 0.49821324, 0.49821326, 0.49821327, 0.49821325,\n",
       "        0.49821323, 0.49821323, 0.49821319, 0.49821327, 0.49821322,\n",
       "        0.49821324, 0.49821322, 0.49821323, 0.49821324, 0.49821322,\n",
       "        0.49821325, 0.49821321, 0.49821325, 0.49821323, 0.49821325,\n",
       "        0.49821327, 0.49821327, 0.49821322, 0.49821323, 0.49821321,\n",
       "        0.49821324, 0.49821322, 0.49821321, 0.49821323, 0.49821326,\n",
       "        0.49821328, 0.49821324, 0.49821321, 0.49821323, 0.49821323,\n",
       "        0.49821322, 0.49821322, 0.49821326, 0.49821326, 0.49821324,\n",
       "        0.49821321, 0.49821323, 0.49821323, 0.49821323, 0.49821323,\n",
       "        0.49821321, 0.49821331, 0.49821326, 0.49821323, 0.49821324,\n",
       "        0.49821325, 0.49821322, 0.49821326, 0.49821328, 0.49821324,\n",
       "        0.4982132 , 0.49821324, 0.49821326, 0.49821321, 0.49821323,\n",
       "        0.49821321, 0.49821324, 0.49821322, 0.49821326, 0.49821321,\n",
       "        0.49821322, 0.49821323, 0.49821324, 0.49821326, 0.49821324,\n",
       "        0.49821327, 0.49821324, 0.49821324, 0.49821326, 0.49821322,\n",
       "        0.49821322, 0.49821322, 0.49821325, 0.49821321, 0.49821326,\n",
       "        0.49821326, 0.49821324, 0.49821323, 0.49821324, 0.49821324,\n",
       "        0.49821323, 0.49821323, 0.49821323, 0.49821323, 0.49821322,\n",
       "        0.49821327, 0.49821322, 0.49821322, 0.49821322, 0.49821325,\n",
       "        0.49821323, 0.49821328, 0.49821321, 0.49821325, 0.49821326,\n",
       "        0.49821325, 0.49821325, 0.49821323, 0.49821323, 0.49821325,\n",
       "        0.49821326, 0.49821322, 0.49821324, 0.49821323, 0.49821325,\n",
       "        0.49821323, 0.49821325, 0.49821323, 0.49821323, 0.49821323,\n",
       "        0.49821325, 0.49821323, 0.4982132 , 0.49821321, 0.49821327,\n",
       "        0.49821325, 0.49821324, 0.49821324, 0.49821322, 0.49821323,\n",
       "        0.49821321, 0.49821322, 0.49821326, 0.49821328, 0.49821325,\n",
       "        0.4982132 , 0.49821324, 0.49821325, 0.49821325, 0.49821325,\n",
       "        0.49821322, 0.4982132 , 0.49821323, 0.49821321, 0.49821323,\n",
       "        0.49821321, 0.49821323, 0.49821322, 0.49821323, 0.49821327,\n",
       "        0.49821324, 0.49821325, 0.49821325, 0.4982132 , 0.49821324,\n",
       "        0.49821328, 0.49821324, 0.49821325, 0.49821323, 0.49821326,\n",
       "        0.49821324, 0.49821324, 0.49821324, 0.49821323, 0.49821323,\n",
       "        0.49821326, 0.49821319, 0.49821317, 0.49821322, 0.49821324,\n",
       "        0.4982132 , 0.49821319, 0.49821321, 0.49821321, 0.49821323,\n",
       "        0.49821324, 0.49821322, 0.49821322, 0.49821324, 0.4982132 ,\n",
       "        0.49821324, 0.49821325, 0.49821327, 0.49821324, 0.49821322,\n",
       "        0.49821324, 0.49821328, 0.49821324, 0.49821325, 0.49821326,\n",
       "        0.49821322]])"
      ]
     },
     "execution_count": 90,
     "metadata": {},
     "output_type": "execute_result"
    }
   ],
   "source": [
    "Y_hat"
   ]
  },
  {
   "cell_type": "markdown",
   "id": "1208ba68",
   "metadata": {},
   "source": [
    "## Next steps where made in an attempt to understand what exactly in the previous steps does not allow the machine to learn normally.  Please, if you notice an error, tell me about it so that I can analyze it and fix it.  Thank you."
   ]
  },
  {
   "cell_type": "code",
   "execution_count": 91,
   "id": "f039811c",
   "metadata": {},
   "outputs": [],
   "source": [
    "Y_hat_copy = Y_hat.copy()\n",
    "Y_hat_copy[Y_hat_copy <= 0.497] = 0\n",
    "Y_hat_copy[Y_hat_copy > 0.496] = 1"
   ]
  },
  {
   "cell_type": "code",
   "execution_count": 92,
   "id": "d89ec335",
   "metadata": {},
   "outputs": [
    {
     "data": {
      "text/plain": [
       "array([[1., 1., 1., 1., 1., 1., 1., 1., 1., 1., 1., 1., 1., 1., 1., 1.,\n",
       "        1., 1., 1., 1., 1., 1., 1., 1., 1., 1., 1., 1., 1., 1., 1., 1.,\n",
       "        1., 1., 1., 1., 1., 1., 1., 1., 1., 1., 1., 1., 1., 1., 1., 1.,\n",
       "        1., 1., 1., 1., 1., 1., 1., 1., 1., 1., 1., 1., 1., 1., 1., 1.,\n",
       "        1., 1., 1., 1., 1., 1., 1., 1., 1., 1., 1., 1., 1., 1., 1., 1.,\n",
       "        1., 1., 1., 1., 1., 1., 1., 1., 1., 1., 1., 1., 1., 1., 1., 1.,\n",
       "        1., 1., 1., 1., 1., 1., 1., 1., 1., 1., 1., 1., 1., 1., 1., 1.,\n",
       "        1., 1., 1., 1., 1., 1., 1., 1., 1., 1., 1., 1., 1., 1., 1., 1.,\n",
       "        1., 1., 1., 1., 1., 1., 1., 1., 1., 1., 1., 1., 1., 1., 1., 1.,\n",
       "        1., 1., 1., 1., 1., 1., 1., 1., 1., 1., 1., 1., 1., 1., 1., 1.,\n",
       "        1., 1., 1., 1., 1., 1., 1., 1., 1., 1., 1., 1., 1., 1., 1., 1.,\n",
       "        1., 1., 1., 1., 1., 1., 1., 1., 1., 1., 1., 1., 1., 1., 1., 1.,\n",
       "        1., 1., 1., 1., 1., 1., 1., 1., 1., 1., 1., 1., 1., 1., 1., 1.,\n",
       "        1., 1., 1., 1., 1., 1., 1., 1., 1., 1., 1., 1., 1., 1., 1., 1.,\n",
       "        1., 1., 1., 1., 1., 1., 1., 1., 1., 1., 1., 1., 1., 1., 1., 1.,\n",
       "        1.]])"
      ]
     },
     "execution_count": 92,
     "metadata": {},
     "output_type": "execute_result"
    }
   ],
   "source": [
    "Y_hat_copy"
   ]
  },
  {
   "cell_type": "code",
   "execution_count": 93,
   "id": "4bc6bbe8",
   "metadata": {},
   "outputs": [
    {
     "data": {
      "text/plain": [
       "array([[1, 1, 1, 1, 0, 1, 0, 0, 0, 1, 1, 1, 1, 1, 1, 1, 1, 1, 0, 1, 0, 0,\n",
       "        1, 1, 1, 1, 1, 0, 0, 0, 1, 0, 0, 0, 0, 1, 0, 1, 1, 0, 1, 0, 0, 1,\n",
       "        0, 0, 0, 1, 0, 1, 1, 0, 1, 1, 1, 1, 1, 0, 0, 0, 1, 0, 1, 0, 1, 1,\n",
       "        0, 0, 1, 1, 0, 0, 1, 1, 0, 0, 0, 1, 1, 0, 0, 0, 0, 0, 1, 1, 1, 1,\n",
       "        1, 1, 1, 1, 0, 1, 0, 0, 1, 1, 1, 1, 1, 1, 0, 1, 0, 1, 0, 1, 0, 1,\n",
       "        1, 0, 0, 0, 1, 1, 0, 1, 0, 1, 0, 1, 0, 0, 0, 1, 1, 1, 0, 1, 0, 1,\n",
       "        0, 0, 1, 1, 0, 1, 1, 0, 0, 0, 1, 1, 1, 1, 1, 1, 0, 0, 1, 0, 1, 0,\n",
       "        1, 1, 0, 0, 0, 1, 1, 0, 0, 0, 1, 1, 1, 0, 0, 1, 1, 1, 0, 1, 1, 0,\n",
       "        1, 1, 1, 0, 1, 1, 1, 1, 0, 0, 1, 0, 1, 1, 0, 1, 1, 1, 1, 1, 0, 1,\n",
       "        1, 0, 1, 1, 1, 1, 0, 0, 0, 0, 1, 0, 1, 1, 0, 0, 0, 0, 1, 1, 0, 0,\n",
       "        1, 0, 1, 0, 0, 0, 1, 0, 0, 0, 0, 0, 1, 0, 1, 0, 0, 0, 0, 1, 1]],\n",
       "      dtype=int64)"
      ]
     },
     "execution_count": 93,
     "metadata": {},
     "output_type": "execute_result"
    }
   ],
   "source": [
    "Y_train"
   ]
  },
  {
   "cell_type": "code",
   "execution_count": null,
   "id": "b3a4a193",
   "metadata": {},
   "outputs": [],
   "source": []
  },
  {
   "cell_type": "markdown",
   "id": "c52d6229",
   "metadata": {},
   "source": [
    "## ML model using Sklearn library\n",
    "#### I used this model to understend how optimal is my model"
   ]
  },
  {
   "cell_type": "code",
   "execution_count": 94,
   "id": "31dd8d30",
   "metadata": {},
   "outputs": [
    {
     "data": {
      "text/plain": [
       "(13, 241)"
      ]
     },
     "execution_count": 94,
     "metadata": {},
     "output_type": "execute_result"
    }
   ],
   "source": [
    "X_train.shape"
   ]
  },
  {
   "cell_type": "code",
   "execution_count": 95,
   "id": "10bffb45",
   "metadata": {},
   "outputs": [],
   "source": [
    "X_train_reshape = X_train.reshape(X_train.shape[1], X_train.shape[0])"
   ]
  },
  {
   "cell_type": "code",
   "execution_count": 96,
   "id": "941000ee",
   "metadata": {},
   "outputs": [
    {
     "data": {
      "text/plain": [
       "(241, 13)"
      ]
     },
     "execution_count": 96,
     "metadata": {},
     "output_type": "execute_result"
    }
   ],
   "source": [
    "X_train_reshape.shape"
   ]
  },
  {
   "cell_type": "code",
   "execution_count": 97,
   "id": "1f1c1501",
   "metadata": {},
   "outputs": [
    {
     "data": {
      "text/plain": [
       "(1, 241)"
      ]
     },
     "execution_count": 97,
     "metadata": {},
     "output_type": "execute_result"
    }
   ],
   "source": [
    "Y_train.shape"
   ]
  },
  {
   "cell_type": "code",
   "execution_count": 98,
   "id": "00b11c93",
   "metadata": {},
   "outputs": [],
   "source": [
    "Y_train_reshape = Y_train.reshape(Y_train.shape[1], Y_train.shape[0])"
   ]
  },
  {
   "cell_type": "code",
   "execution_count": 99,
   "id": "d8c677e5",
   "metadata": {},
   "outputs": [
    {
     "data": {
      "text/plain": [
       "(241, 1)"
      ]
     },
     "execution_count": 99,
     "metadata": {},
     "output_type": "execute_result"
    }
   ],
   "source": [
    "Y_train_reshape.shape"
   ]
  },
  {
   "cell_type": "code",
   "execution_count": 100,
   "id": "f8db098b",
   "metadata": {},
   "outputs": [
    {
     "data": {
      "text/plain": [
       "(13, 61)"
      ]
     },
     "execution_count": 100,
     "metadata": {},
     "output_type": "execute_result"
    }
   ],
   "source": [
    "X_test.shape"
   ]
  },
  {
   "cell_type": "code",
   "execution_count": 101,
   "id": "3a8bcad9",
   "metadata": {},
   "outputs": [],
   "source": [
    "X_test_reshape = X_test.reshape(X_test.shape[1], X_test.shape[0])"
   ]
  },
  {
   "cell_type": "code",
   "execution_count": 102,
   "id": "f6afbbe7",
   "metadata": {},
   "outputs": [
    {
     "data": {
      "text/plain": [
       "(61, 13)"
      ]
     },
     "execution_count": 102,
     "metadata": {},
     "output_type": "execute_result"
    }
   ],
   "source": [
    "X_test_reshape.shape"
   ]
  },
  {
   "cell_type": "code",
   "execution_count": 103,
   "id": "8237bfc6",
   "metadata": {},
   "outputs": [
    {
     "data": {
      "text/plain": [
       "(1, 61)"
      ]
     },
     "execution_count": 103,
     "metadata": {},
     "output_type": "execute_result"
    }
   ],
   "source": [
    "Y_test.shape"
   ]
  },
  {
   "cell_type": "code",
   "execution_count": 104,
   "id": "0a1f11cf",
   "metadata": {},
   "outputs": [],
   "source": [
    "Y_test_reshape = Y_test.reshape(Y_test.shape[1], Y_test.shape[0])"
   ]
  },
  {
   "cell_type": "code",
   "execution_count": 105,
   "id": "b946dc07",
   "metadata": {},
   "outputs": [
    {
     "data": {
      "text/plain": [
       "(61, 1)"
      ]
     },
     "execution_count": 105,
     "metadata": {},
     "output_type": "execute_result"
    }
   ],
   "source": [
    "Y_test_reshape.shape"
   ]
  },
  {
   "cell_type": "code",
   "execution_count": 106,
   "id": "1290094b",
   "metadata": {},
   "outputs": [],
   "source": [
    "model = LogisticRegression()"
   ]
  },
  {
   "cell_type": "code",
   "execution_count": 107,
   "id": "f5768538",
   "metadata": {},
   "outputs": [
    {
     "name": "stderr",
     "output_type": "stream",
     "text": [
      "C:\\ProgramData\\Anaconda3\\lib\\site-packages\\sklearn\\utils\\validation.py:993: DataConversionWarning: A column-vector y was passed when a 1d array was expected. Please change the shape of y to (n_samples, ), for example using ravel().\n",
      "  y = column_or_1d(y, warn=True)\n"
     ]
    },
    {
     "data": {
      "text/plain": [
       "LogisticRegression()"
      ]
     },
     "execution_count": 107,
     "metadata": {},
     "output_type": "execute_result"
    }
   ],
   "source": [
    "model.fit(X_train_reshape, Y_train_reshape)"
   ]
  },
  {
   "cell_type": "code",
   "execution_count": 108,
   "id": "559c0be1",
   "metadata": {},
   "outputs": [
    {
     "name": "stdout",
     "output_type": "stream",
     "text": [
      "Accuracy on trainig set: 0.5601659751037344\n"
     ]
    }
   ],
   "source": [
    "X_train_predition = model.predict(X_train_reshape)\n",
    "training_data_accuracy = accuracy_score(X_train_predition, Y_train_reshape)\n",
    "print('Accuracy on trainig set:', training_data_accuracy)"
   ]
  },
  {
   "cell_type": "code",
   "execution_count": 109,
   "id": "6524653e",
   "metadata": {},
   "outputs": [
    {
     "name": "stdout",
     "output_type": "stream",
     "text": [
      "Accuracy on testing set: 0.5081967213114754\n"
     ]
    }
   ],
   "source": [
    "# X_test prediction\n",
    "X_test_predition = model.predict(X_test_reshape)\n",
    "testing_data_accuracy = accuracy_score(X_test_predition, Y_test_reshape)\n",
    "print('Accuracy on testing set:', testing_data_accuracy)"
   ]
  },
  {
   "cell_type": "code",
   "execution_count": null,
   "id": "d0e28e37",
   "metadata": {},
   "outputs": [],
   "source": []
  }
 ],
 "metadata": {
  "kernelspec": {
   "display_name": "Python 3 (ipykernel)",
   "language": "python",
   "name": "python3"
  },
  "language_info": {
   "codemirror_mode": {
    "name": "ipython",
    "version": 3
   },
   "file_extension": ".py",
   "mimetype": "text/x-python",
   "name": "python",
   "nbconvert_exporter": "python",
   "pygments_lexer": "ipython3",
   "version": "3.9.13"
  }
 },
 "nbformat": 4,
 "nbformat_minor": 5
}
